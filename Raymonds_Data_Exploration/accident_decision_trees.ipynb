{
  "nbformat": 4,
  "nbformat_minor": 0,
  "metadata": {
    "colab": {
      "name": "accident_decision_trees.ipynb",
      "provenance": [],
      "collapsed_sections": []
    },
    "kernelspec": {
      "name": "python3",
      "display_name": "Python 3"
    }
  },
  "cells": [
    {
      "cell_type": "markdown",
      "metadata": {
        "id": "ZDsvdpJAsNg3",
        "colab_type": "text"
      },
      "source": [
        "## Import Libraries\n"
      ]
    },
    {
      "cell_type": "code",
      "metadata": {
        "id": "SvyPTyo6P_Eb",
        "colab_type": "code",
        "colab": {}
      },
      "source": [
        "import pandas as pd\n",
        "import numpy as np\n",
        "from mlxtend.frequent_patterns import apriori, association_rules \n",
        "from sklearn.tree import DecisionTreeClassifier\n",
        "from sklearn.model_selection import train_test_split\n",
        "from sklearn.metrics import accuracy_score"
      ],
      "execution_count": 0,
      "outputs": []
    },
    {
      "cell_type": "code",
      "metadata": {
        "id": "NtJcCMneiqX8",
        "colab_type": "code",
        "colab": {}
      },
      "source": [
        "accident = pd.read_csv(\"/content/drive/My Drive/Colab Notebooks/CMPE255/US_Accidents_Dec19.csv\")"
      ],
      "execution_count": 0,
      "outputs": []
    },
    {
      "cell_type": "markdown",
      "metadata": {
        "id": "0ksJaegLs1Nq",
        "colab_type": "text"
      },
      "source": [
        "## Various aspects of raw dataframe"
      ]
    },
    {
      "cell_type": "code",
      "metadata": {
        "id": "ASqWM7Frk06a",
        "colab_type": "code",
        "colab": {
          "base_uri": "https://localhost:8080/",
          "height": 230
        },
        "outputId": "ddf99abe-b0e1-4c1d-90b7-09e1b42b6f5f"
      },
      "source": [
        "accident.columns"
      ],
      "execution_count": 130,
      "outputs": [
        {
          "output_type": "execute_result",
          "data": {
            "text/plain": [
              "Index(['ID', 'Source', 'TMC', 'Severity', 'Start_Time', 'End_Time',\n",
              "       'Start_Lat', 'Start_Lng', 'End_Lat', 'End_Lng', 'Distance(mi)',\n",
              "       'Description', 'Number', 'Street', 'Side', 'City', 'County', 'State',\n",
              "       'Zipcode', 'Country', 'Timezone', 'Airport_Code', 'Weather_Timestamp',\n",
              "       'Temperature(F)', 'Wind_Chill(F)', 'Humidity(%)', 'Pressure(in)',\n",
              "       'Visibility(mi)', 'Wind_Direction', 'Wind_Speed(mph)',\n",
              "       'Precipitation(in)', 'Weather_Condition', 'Amenity', 'Bump', 'Crossing',\n",
              "       'Give_Way', 'Junction', 'No_Exit', 'Railway', 'Roundabout', 'Station',\n",
              "       'Stop', 'Traffic_Calming', 'Traffic_Signal', 'Turning_Loop',\n",
              "       'Sunrise_Sunset', 'Civil_Twilight', 'Nautical_Twilight',\n",
              "       'Astronomical_Twilight'],\n",
              "      dtype='object')"
            ]
          },
          "metadata": {
            "tags": []
          },
          "execution_count": 130
        }
      ]
    },
    {
      "cell_type": "code",
      "metadata": {
        "id": "Q-5ph4SMs4nP",
        "colab_type": "code",
        "colab": {
          "base_uri": "https://localhost:8080/",
          "height": 35
        },
        "outputId": "485d2e51-8168-4017-93ce-13aec71326ef"
      },
      "source": [
        "accident.shape"
      ],
      "execution_count": 131,
      "outputs": [
        {
          "output_type": "execute_result",
          "data": {
            "text/plain": [
              "(2974335, 49)"
            ]
          },
          "metadata": {
            "tags": []
          },
          "execution_count": 131
        }
      ]
    },
    {
      "cell_type": "markdown",
      "metadata": {
        "id": "b7YhnZgutSVd",
        "colab_type": "text"
      },
      "source": [
        "## No duplicates to report"
      ]
    },
    {
      "cell_type": "code",
      "metadata": {
        "id": "5YNrqaMQs9DR",
        "colab_type": "code",
        "colab": {
          "base_uri": "https://localhost:8080/",
          "height": 35
        },
        "outputId": "dd93406e-2ab0-4bae-92ef-1e0989f40192"
      },
      "source": [
        "accident.drop_duplicates().shape"
      ],
      "execution_count": 132,
      "outputs": [
        {
          "output_type": "execute_result",
          "data": {
            "text/plain": [
              "(2974335, 49)"
            ]
          },
          "metadata": {
            "tags": []
          },
          "execution_count": 132
        }
      ]
    },
    {
      "cell_type": "markdown",
      "metadata": {
        "id": "okxe6slavjjw",
        "colab_type": "text"
      },
      "source": [
        "Remove any rows with NA's"
      ]
    },
    {
      "cell_type": "code",
      "metadata": {
        "id": "PNXJITYyvl--",
        "colab_type": "code",
        "colab": {
          "base_uri": "https://localhost:8080/",
          "height": 531
        },
        "outputId": "bbfba278-6fe7-4d04-c6f3-168aabf03e85"
      },
      "source": [
        "accident.head()"
      ],
      "execution_count": 133,
      "outputs": [
        {
          "output_type": "execute_result",
          "data": {
            "text/html": [
              "<div>\n",
              "<style scoped>\n",
              "    .dataframe tbody tr th:only-of-type {\n",
              "        vertical-align: middle;\n",
              "    }\n",
              "\n",
              "    .dataframe tbody tr th {\n",
              "        vertical-align: top;\n",
              "    }\n",
              "\n",
              "    .dataframe thead th {\n",
              "        text-align: right;\n",
              "    }\n",
              "</style>\n",
              "<table border=\"1\" class=\"dataframe\">\n",
              "  <thead>\n",
              "    <tr style=\"text-align: right;\">\n",
              "      <th></th>\n",
              "      <th>ID</th>\n",
              "      <th>Source</th>\n",
              "      <th>TMC</th>\n",
              "      <th>Severity</th>\n",
              "      <th>Start_Time</th>\n",
              "      <th>End_Time</th>\n",
              "      <th>Start_Lat</th>\n",
              "      <th>Start_Lng</th>\n",
              "      <th>End_Lat</th>\n",
              "      <th>End_Lng</th>\n",
              "      <th>Distance(mi)</th>\n",
              "      <th>Description</th>\n",
              "      <th>Number</th>\n",
              "      <th>Street</th>\n",
              "      <th>Side</th>\n",
              "      <th>City</th>\n",
              "      <th>County</th>\n",
              "      <th>State</th>\n",
              "      <th>Zipcode</th>\n",
              "      <th>Country</th>\n",
              "      <th>Timezone</th>\n",
              "      <th>Airport_Code</th>\n",
              "      <th>Weather_Timestamp</th>\n",
              "      <th>Temperature(F)</th>\n",
              "      <th>Wind_Chill(F)</th>\n",
              "      <th>Humidity(%)</th>\n",
              "      <th>Pressure(in)</th>\n",
              "      <th>Visibility(mi)</th>\n",
              "      <th>Wind_Direction</th>\n",
              "      <th>Wind_Speed(mph)</th>\n",
              "      <th>Precipitation(in)</th>\n",
              "      <th>Weather_Condition</th>\n",
              "      <th>Amenity</th>\n",
              "      <th>Bump</th>\n",
              "      <th>Crossing</th>\n",
              "      <th>Give_Way</th>\n",
              "      <th>Junction</th>\n",
              "      <th>No_Exit</th>\n",
              "      <th>Railway</th>\n",
              "      <th>Roundabout</th>\n",
              "      <th>Station</th>\n",
              "      <th>Stop</th>\n",
              "      <th>Traffic_Calming</th>\n",
              "      <th>Traffic_Signal</th>\n",
              "      <th>Turning_Loop</th>\n",
              "      <th>Sunrise_Sunset</th>\n",
              "      <th>Civil_Twilight</th>\n",
              "      <th>Nautical_Twilight</th>\n",
              "      <th>Astronomical_Twilight</th>\n",
              "    </tr>\n",
              "  </thead>\n",
              "  <tbody>\n",
              "    <tr>\n",
              "      <th>0</th>\n",
              "      <td>A-1</td>\n",
              "      <td>MapQuest</td>\n",
              "      <td>201.0</td>\n",
              "      <td>3</td>\n",
              "      <td>2016-02-08 05:46:00</td>\n",
              "      <td>2016-02-08 11:00:00</td>\n",
              "      <td>39.865147</td>\n",
              "      <td>-84.058723</td>\n",
              "      <td>NaN</td>\n",
              "      <td>NaN</td>\n",
              "      <td>0.01</td>\n",
              "      <td>Right lane blocked due to accident on I-70 Eas...</td>\n",
              "      <td>NaN</td>\n",
              "      <td>I-70 E</td>\n",
              "      <td>R</td>\n",
              "      <td>Dayton</td>\n",
              "      <td>Montgomery</td>\n",
              "      <td>OH</td>\n",
              "      <td>45424</td>\n",
              "      <td>US</td>\n",
              "      <td>US/Eastern</td>\n",
              "      <td>KFFO</td>\n",
              "      <td>2016-02-08 05:58:00</td>\n",
              "      <td>36.9</td>\n",
              "      <td>NaN</td>\n",
              "      <td>91.0</td>\n",
              "      <td>29.68</td>\n",
              "      <td>10.0</td>\n",
              "      <td>Calm</td>\n",
              "      <td>NaN</td>\n",
              "      <td>0.02</td>\n",
              "      <td>Light Rain</td>\n",
              "      <td>False</td>\n",
              "      <td>False</td>\n",
              "      <td>False</td>\n",
              "      <td>False</td>\n",
              "      <td>False</td>\n",
              "      <td>False</td>\n",
              "      <td>False</td>\n",
              "      <td>False</td>\n",
              "      <td>False</td>\n",
              "      <td>False</td>\n",
              "      <td>False</td>\n",
              "      <td>False</td>\n",
              "      <td>False</td>\n",
              "      <td>Night</td>\n",
              "      <td>Night</td>\n",
              "      <td>Night</td>\n",
              "      <td>Night</td>\n",
              "    </tr>\n",
              "    <tr>\n",
              "      <th>1</th>\n",
              "      <td>A-2</td>\n",
              "      <td>MapQuest</td>\n",
              "      <td>201.0</td>\n",
              "      <td>2</td>\n",
              "      <td>2016-02-08 06:07:59</td>\n",
              "      <td>2016-02-08 06:37:59</td>\n",
              "      <td>39.928059</td>\n",
              "      <td>-82.831184</td>\n",
              "      <td>NaN</td>\n",
              "      <td>NaN</td>\n",
              "      <td>0.01</td>\n",
              "      <td>Accident on Brice Rd at Tussing Rd. Expect del...</td>\n",
              "      <td>2584.0</td>\n",
              "      <td>Brice Rd</td>\n",
              "      <td>L</td>\n",
              "      <td>Reynoldsburg</td>\n",
              "      <td>Franklin</td>\n",
              "      <td>OH</td>\n",
              "      <td>43068-3402</td>\n",
              "      <td>US</td>\n",
              "      <td>US/Eastern</td>\n",
              "      <td>KCMH</td>\n",
              "      <td>2016-02-08 05:51:00</td>\n",
              "      <td>37.9</td>\n",
              "      <td>NaN</td>\n",
              "      <td>100.0</td>\n",
              "      <td>29.65</td>\n",
              "      <td>10.0</td>\n",
              "      <td>Calm</td>\n",
              "      <td>NaN</td>\n",
              "      <td>0.00</td>\n",
              "      <td>Light Rain</td>\n",
              "      <td>False</td>\n",
              "      <td>False</td>\n",
              "      <td>False</td>\n",
              "      <td>False</td>\n",
              "      <td>False</td>\n",
              "      <td>False</td>\n",
              "      <td>False</td>\n",
              "      <td>False</td>\n",
              "      <td>False</td>\n",
              "      <td>False</td>\n",
              "      <td>False</td>\n",
              "      <td>False</td>\n",
              "      <td>False</td>\n",
              "      <td>Night</td>\n",
              "      <td>Night</td>\n",
              "      <td>Night</td>\n",
              "      <td>Day</td>\n",
              "    </tr>\n",
              "    <tr>\n",
              "      <th>2</th>\n",
              "      <td>A-3</td>\n",
              "      <td>MapQuest</td>\n",
              "      <td>201.0</td>\n",
              "      <td>2</td>\n",
              "      <td>2016-02-08 06:49:27</td>\n",
              "      <td>2016-02-08 07:19:27</td>\n",
              "      <td>39.063148</td>\n",
              "      <td>-84.032608</td>\n",
              "      <td>NaN</td>\n",
              "      <td>NaN</td>\n",
              "      <td>0.01</td>\n",
              "      <td>Accident on OH-32 State Route 32 Westbound at ...</td>\n",
              "      <td>NaN</td>\n",
              "      <td>State Route 32</td>\n",
              "      <td>R</td>\n",
              "      <td>Williamsburg</td>\n",
              "      <td>Clermont</td>\n",
              "      <td>OH</td>\n",
              "      <td>45176</td>\n",
              "      <td>US</td>\n",
              "      <td>US/Eastern</td>\n",
              "      <td>KI69</td>\n",
              "      <td>2016-02-08 06:56:00</td>\n",
              "      <td>36.0</td>\n",
              "      <td>33.3</td>\n",
              "      <td>100.0</td>\n",
              "      <td>29.67</td>\n",
              "      <td>10.0</td>\n",
              "      <td>SW</td>\n",
              "      <td>3.5</td>\n",
              "      <td>NaN</td>\n",
              "      <td>Overcast</td>\n",
              "      <td>False</td>\n",
              "      <td>False</td>\n",
              "      <td>False</td>\n",
              "      <td>False</td>\n",
              "      <td>False</td>\n",
              "      <td>False</td>\n",
              "      <td>False</td>\n",
              "      <td>False</td>\n",
              "      <td>False</td>\n",
              "      <td>False</td>\n",
              "      <td>False</td>\n",
              "      <td>True</td>\n",
              "      <td>False</td>\n",
              "      <td>Night</td>\n",
              "      <td>Night</td>\n",
              "      <td>Day</td>\n",
              "      <td>Day</td>\n",
              "    </tr>\n",
              "    <tr>\n",
              "      <th>3</th>\n",
              "      <td>A-4</td>\n",
              "      <td>MapQuest</td>\n",
              "      <td>201.0</td>\n",
              "      <td>3</td>\n",
              "      <td>2016-02-08 07:23:34</td>\n",
              "      <td>2016-02-08 07:53:34</td>\n",
              "      <td>39.747753</td>\n",
              "      <td>-84.205582</td>\n",
              "      <td>NaN</td>\n",
              "      <td>NaN</td>\n",
              "      <td>0.01</td>\n",
              "      <td>Accident on I-75 Southbound at Exits 52 52B US...</td>\n",
              "      <td>NaN</td>\n",
              "      <td>I-75 S</td>\n",
              "      <td>R</td>\n",
              "      <td>Dayton</td>\n",
              "      <td>Montgomery</td>\n",
              "      <td>OH</td>\n",
              "      <td>45417</td>\n",
              "      <td>US</td>\n",
              "      <td>US/Eastern</td>\n",
              "      <td>KDAY</td>\n",
              "      <td>2016-02-08 07:38:00</td>\n",
              "      <td>35.1</td>\n",
              "      <td>31.0</td>\n",
              "      <td>96.0</td>\n",
              "      <td>29.64</td>\n",
              "      <td>9.0</td>\n",
              "      <td>SW</td>\n",
              "      <td>4.6</td>\n",
              "      <td>NaN</td>\n",
              "      <td>Mostly Cloudy</td>\n",
              "      <td>False</td>\n",
              "      <td>False</td>\n",
              "      <td>False</td>\n",
              "      <td>False</td>\n",
              "      <td>False</td>\n",
              "      <td>False</td>\n",
              "      <td>False</td>\n",
              "      <td>False</td>\n",
              "      <td>False</td>\n",
              "      <td>False</td>\n",
              "      <td>False</td>\n",
              "      <td>False</td>\n",
              "      <td>False</td>\n",
              "      <td>Night</td>\n",
              "      <td>Day</td>\n",
              "      <td>Day</td>\n",
              "      <td>Day</td>\n",
              "    </tr>\n",
              "    <tr>\n",
              "      <th>4</th>\n",
              "      <td>A-5</td>\n",
              "      <td>MapQuest</td>\n",
              "      <td>201.0</td>\n",
              "      <td>2</td>\n",
              "      <td>2016-02-08 07:39:07</td>\n",
              "      <td>2016-02-08 08:09:07</td>\n",
              "      <td>39.627781</td>\n",
              "      <td>-84.188354</td>\n",
              "      <td>NaN</td>\n",
              "      <td>NaN</td>\n",
              "      <td>0.01</td>\n",
              "      <td>Accident on McEwen Rd at OH-725 Miamisburg Cen...</td>\n",
              "      <td>NaN</td>\n",
              "      <td>Miamisburg Centerville Rd</td>\n",
              "      <td>R</td>\n",
              "      <td>Dayton</td>\n",
              "      <td>Montgomery</td>\n",
              "      <td>OH</td>\n",
              "      <td>45459</td>\n",
              "      <td>US</td>\n",
              "      <td>US/Eastern</td>\n",
              "      <td>KMGY</td>\n",
              "      <td>2016-02-08 07:53:00</td>\n",
              "      <td>36.0</td>\n",
              "      <td>33.3</td>\n",
              "      <td>89.0</td>\n",
              "      <td>29.65</td>\n",
              "      <td>6.0</td>\n",
              "      <td>SW</td>\n",
              "      <td>3.5</td>\n",
              "      <td>NaN</td>\n",
              "      <td>Mostly Cloudy</td>\n",
              "      <td>False</td>\n",
              "      <td>False</td>\n",
              "      <td>False</td>\n",
              "      <td>False</td>\n",
              "      <td>False</td>\n",
              "      <td>False</td>\n",
              "      <td>False</td>\n",
              "      <td>False</td>\n",
              "      <td>False</td>\n",
              "      <td>False</td>\n",
              "      <td>False</td>\n",
              "      <td>True</td>\n",
              "      <td>False</td>\n",
              "      <td>Day</td>\n",
              "      <td>Day</td>\n",
              "      <td>Day</td>\n",
              "      <td>Day</td>\n",
              "    </tr>\n",
              "  </tbody>\n",
              "</table>\n",
              "</div>"
            ],
            "text/plain": [
              "    ID    Source    TMC  ...  Civil_Twilight Nautical_Twilight Astronomical_Twilight\n",
              "0  A-1  MapQuest  201.0  ...           Night             Night                 Night\n",
              "1  A-2  MapQuest  201.0  ...           Night             Night                   Day\n",
              "2  A-3  MapQuest  201.0  ...           Night               Day                   Day\n",
              "3  A-4  MapQuest  201.0  ...             Day               Day                   Day\n",
              "4  A-5  MapQuest  201.0  ...             Day               Day                   Day\n",
              "\n",
              "[5 rows x 49 columns]"
            ]
          },
          "metadata": {
            "tags": []
          },
          "execution_count": 133
        }
      ]
    },
    {
      "cell_type": "markdown",
      "metadata": {
        "id": "keeSH0ErsUcw",
        "colab_type": "text"
      },
      "source": [
        "## Create two dataframes\n",
        "- Df for Decision Tree\n",
        "- Df for Apriori"
      ]
    },
    {
      "cell_type": "code",
      "metadata": {
        "id": "lHHkDBwTm-iQ",
        "colab_type": "code",
        "colab": {}
      },
      "source": [
        "dropColumns = ['ID', 'Country', 'Source', 'TMC', 'Start_Time', 'End_Time', 'Start_Lat', 'Start_Lng', 'End_Lng', 'End_Lat', \n",
        "               'Description', 'Number', 'Street', 'Side', 'City', 'County', 'State', 'Zipcode', \n",
        "               'Timezone', 'Airport_Code', 'Weather_Timestamp', 'Traffic_Calming', 'Traffic_Signal', 'Turning_Loop', 'Amenity', 'Bump', 'Crossing', 'Give_Way', 'Junction', 'No_Exit', 'Railway', 'Roundabout', 'Station', 'Stop']\n",
        "\n",
        "dropColumnsForAp = ['ID', 'Country', 'Source', 'TMC', 'Start_Time', 'End_Time', 'Start_Lat', 'Start_Lng', 'End_Lng', 'End_Lat',  \n",
        "                    'Description', 'Number', 'Street', 'Side', 'City', 'County', 'State', 'Zipcode', \n",
        "                   'Timezone', 'Airport_Code', 'Weather_Timestamp', 'Severity', 'Distance(mi)', 'Country', 'Temperature(F)', 'Wind_Chill(F)', 'Humidity(%)', 'Pressure(in)', \n",
        "                    'Visibility(mi)', 'Wind_Direction', 'Wind_Speed(mph)','Precipitation(in)','Weather_Condition', \n",
        "                    'Sunrise_Sunset','Civil_Twilight', 'Nautical_Twilight', 'Astronomical_Twilight']\n",
        "\n",
        "\n",
        "accident_df = accident.drop(columns=dropColumns, axis = 1)\n",
        "obstacle_df = accident.drop(columns=dropColumnsForAp, axis = 1)\n"
      ],
      "execution_count": 0,
      "outputs": []
    },
    {
      "cell_type": "code",
      "metadata": {
        "id": "xbDkfXlRv5IA",
        "colab_type": "code",
        "colab": {}
      },
      "source": [
        "accident_df.dropna(axis=0, inplace=True)\n",
        "obstacle_df.dropna(axis=0, inplace=True)"
      ],
      "execution_count": 0,
      "outputs": []
    },
    {
      "cell_type": "markdown",
      "metadata": {
        "id": "TTWU4knZz_Zb",
        "colab_type": "text"
      },
      "source": [
        "## Drop Na's"
      ]
    },
    {
      "cell_type": "code",
      "metadata": {
        "id": "D10cTW6wocC_",
        "colab_type": "code",
        "colab": {
          "base_uri": "https://localhost:8080/",
          "height": 53
        },
        "outputId": "5a123c79-5054-48ba-c954-5471923711b3"
      },
      "source": [
        "print(\"Accident_Df: \", accident_df.shape)\n",
        "print(\"Obstacle_Df: \", obstacle_df.shape)"
      ],
      "execution_count": 136,
      "outputs": [
        {
          "output_type": "stream",
          "text": [
            "Accident_Df:  (779721, 15)\n",
            "Obstacle_Df:  (2974335, 13)\n"
          ],
          "name": "stdout"
        }
      ]
    },
    {
      "cell_type": "code",
      "metadata": {
        "id": "GdtDMWRk4TYG",
        "colab_type": "code",
        "colab": {}
      },
      "source": [
        "accident_df = accident_df.drop(columns=['Wind_Direction'])"
      ],
      "execution_count": 0,
      "outputs": []
    },
    {
      "cell_type": "code",
      "metadata": {
        "id": "A_MrQJ4q4l8e",
        "colab_type": "code",
        "colab": {}
      },
      "source": [
        "\n",
        "accident_df['Distance(mi)'].max() #0 - 185\n",
        "accident_df['Distance(mi)'] = pd.cut(accident_df['Distance(mi)'], bins=[-1,30,100,184], labels=['short', 'medium', 'far'])\n",
        "\n"
      ],
      "execution_count": 0,
      "outputs": []
    },
    {
      "cell_type": "code",
      "metadata": {
        "id": "k7Tdsw4HFqZR",
        "colab_type": "code",
        "colab": {}
      },
      "source": [
        "accident_df['Temperature(F)'].max() #-24 - 115.0\n",
        "accident_df['Temperature(F)'] = pd.cut(accident_df['Temperature(F)'], bins=[-25,25,60,95,116], labels=['freezing', 'cold', 'normal','vhot'])"
      ],
      "execution_count": 0,
      "outputs": []
    },
    {
      "cell_type": "code",
      "metadata": {
        "id": "8FqZBVjPG5lP",
        "colab_type": "code",
        "colab": {}
      },
      "source": [
        "accident_df['Wind_Chill(F)'].min() #-52.7 - 115.0\n",
        "accident_df['Wind_Chill(F)'] = pd.cut(accident_df['Wind_Chill(F)'], bins=[-53,25,60,95,116], labels=['freezing', 'cold', 'normal','vhot'])"
      ],
      "execution_count": 0,
      "outputs": []
    },
    {
      "cell_type": "code",
      "metadata": {
        "id": "kf3Mko_THOCS",
        "colab_type": "code",
        "colab": {}
      },
      "source": [
        "accident_df['Humidity(%)'].max() #1.0 - 100.0\n",
        "accident_df['Humidity(%)'] = pd.cut(accident_df['Humidity(%)'], bins=[-1,33, 66, 101], labels=['low', 'medium', 'high'])"
      ],
      "execution_count": 0,
      "outputs": []
    },
    {
      "cell_type": "code",
      "metadata": {
        "id": "VlHLQpu7MIKr",
        "colab_type": "code",
        "colab": {}
      },
      "source": [
        "accident_df['Pressure(in)'].min() #19.48 - 31.1\n",
        "accident_df['Pressure(in)'] = pd.cut(accident_df['Pressure(in)'], bins=[18,23, 28, 32], labels=['low', 'medium', 'high'])"
      ],
      "execution_count": 0,
      "outputs": []
    },
    {
      "cell_type": "code",
      "metadata": {
        "id": "gOFZeklLMzeA",
        "colab_type": "code",
        "colab": {}
      },
      "source": [
        "accident_df['Visibility(mi)'].max() #0.0 - 90\n",
        "accident_df['Visibility(mi)'] = pd.cut(accident_df['Visibility(mi)'], bins=[-1,33, 66, 91], labels=['poor', 'so-so', 'good'])"
      ],
      "execution_count": 0,
      "outputs": []
    },
    {
      "cell_type": "code",
      "metadata": {
        "id": "KCMcYYNHNP3m",
        "colab_type": "code",
        "colab": {}
      },
      "source": [
        "accident_df['Wind_Speed(mph)'].min() #0.0 - 255\n",
        "accident_df['Wind_Speed(mph)'] = pd.cut(accident_df['Wind_Speed(mph)'], bins=[-1,5, 15, 30,  66, 100, 255], labels=['none','vlow', 'low', 'med', 'high', 'vhigh'])"
      ],
      "execution_count": 0,
      "outputs": []
    },
    {
      "cell_type": "code",
      "metadata": {
        "id": "eGat4LtfN8yu",
        "colab_type": "code",
        "colab": {}
      },
      "source": [
        "accident_df['Precipitation(in)'].max() #0.0 - 25\n",
        "accident_df['Precipitation(in)'] = pd.cut(accident_df['Precipitation(in)'], bins=[-1,5, 15, 25,  31], labels=[ 'low', 'med', 'high', 'vhigh'])"
      ],
      "execution_count": 0,
      "outputs": []
    },
    {
      "cell_type": "code",
      "metadata": {
        "id": "QhWF9x5Bwmmk",
        "colab_type": "code",
        "colab": {}
      },
      "source": [
        "yDrop = ['Distance(mi)',\t'Temperature(F)',\t'Wind_Chill(F)',\t'Humidity(%)'\t,'Pressure(in)','Visibility(mi)',\t'Wind_Speed(mph)','Precipitation(in)',\t'Weather_Condition',\t'Sunrise_Sunset',\t'Civil_Twilight',\n",
        "        \t'Nautical_Twilight',\t'Astronomical_Twilight']\n",
        "\n",
        "y = accident_df.drop(yDrop, axis=1)\n",
        "x = accident_df.drop(['Severity'], axis=1)\n",
        "\n",
        "y = pd.get_dummies(y)\n",
        "x = pd.get_dummies(x, ['Distance(mi)',\t'Temperature(F)',\t'Wind_Chill(F)',\t'Humidity(%)'\t,'Pressure(in)','Visibility(mi)',\t'Wind_Speed(mph)','Precipitation(in)',\t'Weather_Condition',\t'Sunrise_Sunset',\t'Civil_Twilight',\n",
        "        \t'Nautical_Twilight',\t'Astronomical_Twilight'])"
      ],
      "execution_count": 0,
      "outputs": []
    },
    {
      "cell_type": "code",
      "metadata": {
        "id": "ty-PNUXqQK3M",
        "colab_type": "code",
        "colab": {}
      },
      "source": [
        "X_TRAIN, X_TEST, Y_TRAIN, Y_TEST = train_test_split(x, y, test_size=0.2, random_state=41)\n"
      ],
      "execution_count": 0,
      "outputs": []
    },
    {
      "cell_type": "code",
      "metadata": {
        "id": "XeT3AuBlTu7u",
        "colab_type": "code",
        "colab": {
          "base_uri": "https://localhost:8080/",
          "height": 514
        },
        "outputId": "6c7153b3-d66c-4709-ed6b-47883e8ee3cc"
      },
      "source": [
        "clf3 = DecisionTreeClassifier(max_depth=3)\n",
        "clf3 = clf3.fit(X_TRAIN, Y_TRAIN)\n",
        "tree.plot_tree(clf3) "
      ],
      "execution_count": 150,
      "outputs": [
        {
          "output_type": "execute_result",
          "data": {
            "text/plain": [
              "[Text(167.4, 190.26, 'X[40] <= 0.5\\ngini = 0.42\\nsamples = 623776\\nvalue = [149, 448354, 156481, 18792]'),\n",
              " Text(83.7, 135.9, 'X[20] <= 0.5\\ngini = 0.441\\nsamples = 372630\\nvalue = [89, 258961, 101897, 11683]'),\n",
              " Text(41.85, 81.53999999999999, 'X[79] <= 0.5\\ngini = 0.456\\nsamples = 256659\\nvalue = [55, 173817, 74481, 8306]'),\n",
              " Text(20.925, 27.180000000000007, 'gini = 0.449\\nsamples = 233866\\nvalue = [49, 160153, 66396, 7268]'),\n",
              " Text(62.775000000000006, 27.180000000000007, 'gini = 0.513\\nsamples = 22793\\nvalue = [6, 13664, 8085, 1038]'),\n",
              " Text(125.55000000000001, 81.53999999999999, 'X[42] <= 0.5\\ngini = 0.404\\nsamples = 115971\\nvalue = [34, 85144, 27416, 3377]'),\n",
              " Text(104.625, 27.180000000000007, 'gini = 0.408\\nsamples = 110145\\nvalue = [34, 80407, 26491, 3213]'),\n",
              " Text(146.475, 27.180000000000007, 'gini = 0.313\\nsamples = 5826\\nvalue = [0, 4737, 925, 164]'),\n",
              " Text(251.10000000000002, 135.9, 'X[11] <= 0.5\\ngini = 0.383\\nsamples = 251146\\nvalue = [60, 189393, 54584, 7109]'),\n",
              " Text(209.25, 81.53999999999999, 'X[20] <= 0.5\\ngini = 0.393\\nsamples = 208897\\nvalue = [51, 155709, 46899, 6238]'),\n",
              " Text(188.32500000000002, 27.180000000000007, 'gini = 0.41\\nsamples = 110069\\nvalue = [27, 80169, 26624, 3249]'),\n",
              " Text(230.175, 27.180000000000007, 'gini = 0.373\\nsamples = 98828\\nvalue = [24, 75540, 20275, 2989]'),\n",
              " Text(292.95, 81.53999999999999, 'X[16] <= 0.5\\ngini = 0.331\\nsamples = 42249\\nvalue = [9, 33684, 7685, 871]'),\n",
              " Text(272.02500000000003, 27.180000000000007, 'gini = 0.392\\nsamples = 6923\\nvalue = [2, 5192, 1441, 288]'),\n",
              " Text(313.875, 27.180000000000007, 'gini = 0.318\\nsamples = 35326\\nvalue = [7, 28492, 6244, 583]')]"
            ]
          },
          "metadata": {
            "tags": []
          },
          "execution_count": 150
        },
        {
          "output_type": "display_data",
          "data": {
            "image/png": "[encoded data removed]",
            "text/plain": [
              "<Figure size 432x288 with 1 Axes>"
            ]
          },
          "metadata": {
            "tags": [],
            "needs_background": "light"
          }
        }
      ]
    },
    {
      "cell_type": "code",
      "metadata": {
        "id": "ZyFT86eKTxIN",
        "colab_type": "code",
        "colab": {}
      },
      "source": [
        ""
      ],
      "execution_count": 0,
      "outputs": []
    },
    {
      "cell_type": "code",
      "metadata": {
        "id": "JNsNRiTXOqAe",
        "colab_type": "code",
        "colab": {
          "base_uri": "https://localhost:8080/",
          "height": 514
        },
        "outputId": "262aa7f9-4c83-469b-ccf5-73ce285cf53c"
      },
      "source": [
        "clf5 = DecisionTreeClassifier(max_depth=5)\n",
        "clf5 = clf2.fit(X_TRAIN, Y_TRAIN)\n",
        "tree.plot_tree(clf5) "
      ],
      "execution_count": 151,
      "outputs": [
        {
          "output_type": "execute_result",
          "data": {
            "text/plain": [
              "[Text(167.4, 190.26, 'X[40] <= 0.5\\ngini = 0.42\\nsamples = 623776\\nvalue = [149, 448354, 156481, 18792]'),\n",
              " Text(83.7, 135.9, 'X[20] <= 0.5\\ngini = 0.441\\nsamples = 372630\\nvalue = [89, 258961, 101897, 11683]'),\n",
              " Text(41.85, 81.53999999999999, 'X[79] <= 0.5\\ngini = 0.456\\nsamples = 256659\\nvalue = [55, 173817, 74481, 8306]'),\n",
              " Text(20.925, 27.180000000000007, 'gini = 0.449\\nsamples = 233866\\nvalue = [49, 160153, 66396, 7268]'),\n",
              " Text(62.775000000000006, 27.180000000000007, 'gini = 0.513\\nsamples = 22793\\nvalue = [6, 13664, 8085, 1038]'),\n",
              " Text(125.55000000000001, 81.53999999999999, 'X[42] <= 0.5\\ngini = 0.404\\nsamples = 115971\\nvalue = [34, 85144, 27416, 3377]'),\n",
              " Text(104.625, 27.180000000000007, 'gini = 0.408\\nsamples = 110145\\nvalue = [34, 80407, 26491, 3213]'),\n",
              " Text(146.475, 27.180000000000007, 'gini = 0.313\\nsamples = 5826\\nvalue = [0, 4737, 925, 164]'),\n",
              " Text(251.10000000000002, 135.9, 'X[11] <= 0.5\\ngini = 0.383\\nsamples = 251146\\nvalue = [60, 189393, 54584, 7109]'),\n",
              " Text(209.25, 81.53999999999999, 'X[20] <= 0.5\\ngini = 0.393\\nsamples = 208897\\nvalue = [51, 155709, 46899, 6238]'),\n",
              " Text(188.32500000000002, 27.180000000000007, 'gini = 0.41\\nsamples = 110069\\nvalue = [27, 80169, 26624, 3249]'),\n",
              " Text(230.175, 27.180000000000007, 'gini = 0.373\\nsamples = 98828\\nvalue = [24, 75540, 20275, 2989]'),\n",
              " Text(292.95, 81.53999999999999, 'X[16] <= 0.5\\ngini = 0.331\\nsamples = 42249\\nvalue = [9, 33684, 7685, 871]'),\n",
              " Text(272.02500000000003, 27.180000000000007, 'gini = 0.392\\nsamples = 6923\\nvalue = [2, 5192, 1441, 288]'),\n",
              " Text(313.875, 27.180000000000007, 'gini = 0.318\\nsamples = 35326\\nvalue = [7, 28492, 6244, 583]')]"
            ]
          },
          "metadata": {
            "tags": []
          },
          "execution_count": 151
        },
        {
          "output_type": "display_data",
          "data": {
            "image/png": "[encoded data removed]",
            "text/plain": [
              "<Figure size 432x288 with 1 Axes>"
            ]
          },
          "metadata": {
            "tags": [],
            "needs_background": "light"
          }
        }
      ]
    },
    {
      "cell_type": "code",
      "metadata": {
        "id": "8zpsYIfKPtch",
        "colab_type": "code",
        "colab": {
          "base_uri": "https://localhost:8080/",
          "height": 35
        },
        "outputId": "5bb8aa53-2490-4eb0-efc1-410ea2ed2a1b"
      },
      "source": [
        "accuracy_score(Y_TEST, clf3.predict(X_TEST))"
      ],
      "execution_count": 152,
      "outputs": [
        {
          "output_type": "execute_result",
          "data": {
            "text/plain": [
              "0.7170925646862676"
            ]
          },
          "metadata": {
            "tags": []
          },
          "execution_count": 152
        }
      ]
    },
    {
      "cell_type": "code",
      "metadata": {
        "id": "5cRaMT-kPLXG",
        "colab_type": "code",
        "colab": {
          "base_uri": "https://localhost:8080/",
          "height": 35
        },
        "outputId": "6724bb67-7587-42ca-dc89-358db0c5085f"
      },
      "source": [
        "accuracy_score(Y_TEST, clf5.predict(X_TEST))"
      ],
      "execution_count": 154,
      "outputs": [
        {
          "output_type": "execute_result",
          "data": {
            "text/plain": [
              "0.7170925646862676"
            ]
          },
          "metadata": {
            "tags": []
          },
          "execution_count": 154
        }
      ]
    },
    {
      "cell_type": "code",
      "metadata": {
        "id": "4mT_Ch1pWE04",
        "colab_type": "code",
        "colab": {}
      },
      "source": [
        ""
      ],
      "execution_count": 0,
      "outputs": []
    },
    {
      "cell_type": "markdown",
      "metadata": {
        "id": "n2VqFG9ZWFYu",
        "colab_type": "text"
      },
      "source": [
        "# Apriori Algorithm"
      ]
    },
    {
      "cell_type": "code",
      "metadata": {
        "id": "N4xGSIvTWIy5",
        "colab_type": "code",
        "colab": {
          "base_uri": "https://localhost:8080/",
          "height": 170
        },
        "outputId": "3c17d8c0-5480-4099-8635-efe312c2dc5c"
      },
      "source": [
        "frq_items = apriori(obstacle_df, min_support=0.025, use_colnames=True, max_len=None)\n",
        "display(frq_items)"
      ],
      "execution_count": 163,
      "outputs": [
        {
          "output_type": "display_data",
          "data": {
            "text/html": [
              "<div>\n",
              "<style scoped>\n",
              "    .dataframe tbody tr th:only-of-type {\n",
              "        vertical-align: middle;\n",
              "    }\n",
              "\n",
              "    .dataframe tbody tr th {\n",
              "        vertical-align: top;\n",
              "    }\n",
              "\n",
              "    .dataframe thead th {\n",
              "        text-align: right;\n",
              "    }\n",
              "</style>\n",
              "<table border=\"1\" class=\"dataframe\">\n",
              "  <thead>\n",
              "    <tr style=\"text-align: right;\">\n",
              "      <th></th>\n",
              "      <th>support</th>\n",
              "      <th>itemsets</th>\n",
              "    </tr>\n",
              "  </thead>\n",
              "  <tbody>\n",
              "    <tr>\n",
              "      <th>0</th>\n",
              "      <td>0.069794</td>\n",
              "      <td>(Crossing)</td>\n",
              "    </tr>\n",
              "    <tr>\n",
              "      <th>1</th>\n",
              "      <td>0.080168</td>\n",
              "      <td>(Junction)</td>\n",
              "    </tr>\n",
              "    <tr>\n",
              "      <th>2</th>\n",
              "      <td>0.169242</td>\n",
              "      <td>(Traffic_Signal)</td>\n",
              "    </tr>\n",
              "    <tr>\n",
              "      <th>3</th>\n",
              "      <td>0.053246</td>\n",
              "      <td>(Traffic_Signal, Crossing)</td>\n",
              "    </tr>\n",
              "  </tbody>\n",
              "</table>\n",
              "</div>"
            ],
            "text/plain": [
              "    support                    itemsets\n",
              "0  0.069794                  (Crossing)\n",
              "1  0.080168                  (Junction)\n",
              "2  0.169242            (Traffic_Signal)\n",
              "3  0.053246  (Traffic_Signal, Crossing)"
            ]
          },
          "metadata": {
            "tags": []
          }
        }
      ]
    },
    {
      "cell_type": "code",
      "metadata": {
        "id": "xUUAaH0UXBP6",
        "colab_type": "code",
        "colab": {}
      },
      "source": [
        "rules = association_rules(frq_items, metric='lift', min_threshold=1, support_only=False)"
      ],
      "execution_count": 0,
      "outputs": []
    },
    {
      "cell_type": "code",
      "metadata": {
        "id": "0RdQ27H4XDOQ",
        "colab_type": "code",
        "colab": {
          "base_uri": "https://localhost:8080/",
          "height": 109
        },
        "outputId": "1cb0b90f-1a03-4592-84b2-910c4f85c59b"
      },
      "source": [
        "rules"
      ],
      "execution_count": 162,
      "outputs": [
        {
          "output_type": "execute_result",
          "data": {
            "text/html": [
              "<div>\n",
              "<style scoped>\n",
              "    .dataframe tbody tr th:only-of-type {\n",
              "        vertical-align: middle;\n",
              "    }\n",
              "\n",
              "    .dataframe tbody tr th {\n",
              "        vertical-align: top;\n",
              "    }\n",
              "\n",
              "    .dataframe thead th {\n",
              "        text-align: right;\n",
              "    }\n",
              "</style>\n",
              "<table border=\"1\" class=\"dataframe\">\n",
              "  <thead>\n",
              "    <tr style=\"text-align: right;\">\n",
              "      <th></th>\n",
              "      <th>antecedents</th>\n",
              "      <th>consequents</th>\n",
              "      <th>antecedent support</th>\n",
              "      <th>consequent support</th>\n",
              "      <th>support</th>\n",
              "      <th>confidence</th>\n",
              "      <th>lift</th>\n",
              "      <th>leverage</th>\n",
              "      <th>conviction</th>\n",
              "    </tr>\n",
              "  </thead>\n",
              "  <tbody>\n",
              "    <tr>\n",
              "      <th>0</th>\n",
              "      <td>(Traffic_Signal)</td>\n",
              "      <td>(Crossing)</td>\n",
              "      <td>0.169242</td>\n",
              "      <td>0.069794</td>\n",
              "      <td>0.053246</td>\n",
              "      <td>0.314611</td>\n",
              "      <td>4.507729</td>\n",
              "      <td>0.041433</td>\n",
              "      <td>1.357195</td>\n",
              "    </tr>\n",
              "    <tr>\n",
              "      <th>1</th>\n",
              "      <td>(Crossing)</td>\n",
              "      <td>(Traffic_Signal)</td>\n",
              "      <td>0.069794</td>\n",
              "      <td>0.169242</td>\n",
              "      <td>0.053246</td>\n",
              "      <td>0.762898</td>\n",
              "      <td>4.507729</td>\n",
              "      <td>0.041433</td>\n",
              "      <td>3.503800</td>\n",
              "    </tr>\n",
              "  </tbody>\n",
              "</table>\n",
              "</div>"
            ],
            "text/plain": [
              "        antecedents       consequents  ...  leverage  conviction\n",
              "0  (Traffic_Signal)        (Crossing)  ...  0.041433    1.357195\n",
              "1        (Crossing)  (Traffic_Signal)  ...  0.041433    3.503800\n",
              "\n",
              "[2 rows x 9 columns]"
            ]
          },
          "metadata": {
            "tags": []
          },
          "execution_count": 162
        }
      ]
    }
  ]
}