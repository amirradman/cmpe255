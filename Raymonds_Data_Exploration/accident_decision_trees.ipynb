{
  "nbformat": 4,
  "nbformat_minor": 0,
  "metadata": {
    "colab": {
      "name": "accident_decision_trees.ipynb",
      "provenance": [],
      "collapsed_sections": []
    },
    "kernelspec": {
      "name": "python3",
      "display_name": "Python 3"
    }
  },
  "cells": [
    {
      "cell_type": "markdown",
      "metadata": {
        "id": "ZDsvdpJAsNg3",
        "colab_type": "text"
      },
      "source": [
        "## Import Libraries\n"
      ]
    },
    {
      "cell_type": "code",
      "metadata": {
        "id": "SvyPTyo6P_Eb",
        "colab_type": "code",
        "colab": {}
      },
      "source": [
        "import pandas as pd\n",
        "import numpy as np\n",
        "from mlxtend.frequent_patterns import apriori, association_rules \n",
        "from sklearn.tree import DecisionTreeClassifier\n",
        "from sklearn.model_selection import train_test_split\n",
        "from sklearn.metrics import accuracy_score\n",
        "import matplotlib.pyplot as plt"
      ],
      "execution_count": 0,
      "outputs": []
    },
    {
      "cell_type": "code",
      "metadata": {
        "id": "NtJcCMneiqX8",
        "colab_type": "code",
        "colab": {}
      },
      "source": [
        "accident = pd.read_csv(\"/content/drive/My Drive/Colab Notebooks/CMPE255/US_Accidents_Dec19.csv\")"
      ],
      "execution_count": 0,
      "outputs": []
    },
    {
      "cell_type": "markdown",
      "metadata": {
        "id": "0ksJaegLs1Nq",
        "colab_type": "text"
      },
      "source": [
        "## Various aspects of raw dataframe"
      ]
    },
    {
      "cell_type": "code",
      "metadata": {
        "id": "ASqWM7Frk06a",
        "colab_type": "code",
        "outputId": "4f91a435-5a79-47ad-cf75-ce4ee53ccf08",
        "colab": {
          "base_uri": "https://localhost:8080/",
          "height": 233
        }
      },
      "source": [
        "accident.columns"
      ],
      "execution_count": 39,
      "outputs": [
        {
          "output_type": "execute_result",
          "data": {
            "text/plain": [
              "Index(['ID', 'Source', 'TMC', 'Severity', 'Start_Time', 'End_Time',\n",
              "       'Start_Lat', 'Start_Lng', 'End_Lat', 'End_Lng', 'Distance(mi)',\n",
              "       'Description', 'Number', 'Street', 'Side', 'City', 'County', 'State',\n",
              "       'Zipcode', 'Country', 'Timezone', 'Airport_Code', 'Weather_Timestamp',\n",
              "       'Temperature(F)', 'Wind_Chill(F)', 'Humidity(%)', 'Pressure(in)',\n",
              "       'Visibility(mi)', 'Wind_Direction', 'Wind_Speed(mph)',\n",
              "       'Precipitation(in)', 'Weather_Condition', 'Amenity', 'Bump', 'Crossing',\n",
              "       'Give_Way', 'Junction', 'No_Exit', 'Railway', 'Roundabout', 'Station',\n",
              "       'Stop', 'Traffic_Calming', 'Traffic_Signal', 'Turning_Loop',\n",
              "       'Sunrise_Sunset', 'Civil_Twilight', 'Nautical_Twilight',\n",
              "       'Astronomical_Twilight'],\n",
              "      dtype='object')"
            ]
          },
          "metadata": {
            "tags": []
          },
          "execution_count": 39
        }
      ]
    },
    {
      "cell_type": "code",
      "metadata": {
        "id": "Q-5ph4SMs4nP",
        "colab_type": "code",
        "outputId": "990eb1ff-83f5-48c3-cb75-801b026c7e0b",
        "colab": {
          "base_uri": "https://localhost:8080/",
          "height": 35
        }
      },
      "source": [
        "accident.shape"
      ],
      "execution_count": 40,
      "outputs": [
        {
          "output_type": "execute_result",
          "data": {
            "text/plain": [
              "(2974335, 49)"
            ]
          },
          "metadata": {
            "tags": []
          },
          "execution_count": 40
        }
      ]
    },
    {
      "cell_type": "markdown",
      "metadata": {
        "id": "b7YhnZgutSVd",
        "colab_type": "text"
      },
      "source": [
        "## No duplicates to report"
      ]
    },
    {
      "cell_type": "code",
      "metadata": {
        "id": "5YNrqaMQs9DR",
        "colab_type": "code",
        "outputId": "9f949e3b-6004-458b-f109-d3189c4bd971",
        "colab": {
          "base_uri": "https://localhost:8080/",
          "height": 35
        }
      },
      "source": [
        "accident.drop_duplicates().shape"
      ],
      "execution_count": 41,
      "outputs": [
        {
          "output_type": "execute_result",
          "data": {
            "text/plain": [
              "(2974335, 49)"
            ]
          },
          "metadata": {
            "tags": []
          },
          "execution_count": 41
        }
      ]
    },
    {
      "cell_type": "markdown",
      "metadata": {
        "id": "okxe6slavjjw",
        "colab_type": "text"
      },
      "source": [
        "Remove any rows with NA's"
      ]
    },
    {
      "cell_type": "code",
      "metadata": {
        "id": "PNXJITYyvl--",
        "colab_type": "code",
        "outputId": "a5392cb9-1f3f-4f44-8e0d-6c1961bddfaa",
        "colab": {
          "base_uri": "https://localhost:8080/",
          "height": 534
        }
      },
      "source": [
        "accident.head()"
      ],
      "execution_count": 42,
      "outputs": [
        {
          "output_type": "execute_result",
          "data": {
            "text/html": [
              "<div>\n",
              "<style scoped>\n",
              "    .dataframe tbody tr th:only-of-type {\n",
              "        vertical-align: middle;\n",
              "    }\n",
              "\n",
              "    .dataframe tbody tr th {\n",
              "        vertical-align: top;\n",
              "    }\n",
              "\n",
              "    .dataframe thead th {\n",
              "        text-align: right;\n",
              "    }\n",
              "</style>\n",
              "<table border=\"1\" class=\"dataframe\">\n",
              "  <thead>\n",
              "    <tr style=\"text-align: right;\">\n",
              "      <th></th>\n",
              "      <th>ID</th>\n",
              "      <th>Source</th>\n",
              "      <th>TMC</th>\n",
              "      <th>Severity</th>\n",
              "      <th>Start_Time</th>\n",
              "      <th>End_Time</th>\n",
              "      <th>Start_Lat</th>\n",
              "      <th>Start_Lng</th>\n",
              "      <th>End_Lat</th>\n",
              "      <th>End_Lng</th>\n",
              "      <th>Distance(mi)</th>\n",
              "      <th>Description</th>\n",
              "      <th>Number</th>\n",
              "      <th>Street</th>\n",
              "      <th>Side</th>\n",
              "      <th>City</th>\n",
              "      <th>County</th>\n",
              "      <th>State</th>\n",
              "      <th>Zipcode</th>\n",
              "      <th>Country</th>\n",
              "      <th>Timezone</th>\n",
              "      <th>Airport_Code</th>\n",
              "      <th>Weather_Timestamp</th>\n",
              "      <th>Temperature(F)</th>\n",
              "      <th>Wind_Chill(F)</th>\n",
              "      <th>Humidity(%)</th>\n",
              "      <th>Pressure(in)</th>\n",
              "      <th>Visibility(mi)</th>\n",
              "      <th>Wind_Direction</th>\n",
              "      <th>Wind_Speed(mph)</th>\n",
              "      <th>Precipitation(in)</th>\n",
              "      <th>Weather_Condition</th>\n",
              "      <th>Amenity</th>\n",
              "      <th>Bump</th>\n",
              "      <th>Crossing</th>\n",
              "      <th>Give_Way</th>\n",
              "      <th>Junction</th>\n",
              "      <th>No_Exit</th>\n",
              "      <th>Railway</th>\n",
              "      <th>Roundabout</th>\n",
              "      <th>Station</th>\n",
              "      <th>Stop</th>\n",
              "      <th>Traffic_Calming</th>\n",
              "      <th>Traffic_Signal</th>\n",
              "      <th>Turning_Loop</th>\n",
              "      <th>Sunrise_Sunset</th>\n",
              "      <th>Civil_Twilight</th>\n",
              "      <th>Nautical_Twilight</th>\n",
              "      <th>Astronomical_Twilight</th>\n",
              "    </tr>\n",
              "  </thead>\n",
              "  <tbody>\n",
              "    <tr>\n",
              "      <th>0</th>\n",
              "      <td>A-1</td>\n",
              "      <td>MapQuest</td>\n",
              "      <td>201.0</td>\n",
              "      <td>3</td>\n",
              "      <td>2016-02-08 05:46:00</td>\n",
              "      <td>2016-02-08 11:00:00</td>\n",
              "      <td>39.865147</td>\n",
              "      <td>-84.058723</td>\n",
              "      <td>NaN</td>\n",
              "      <td>NaN</td>\n",
              "      <td>0.01</td>\n",
              "      <td>Right lane blocked due to accident on I-70 Eas...</td>\n",
              "      <td>NaN</td>\n",
              "      <td>I-70 E</td>\n",
              "      <td>R</td>\n",
              "      <td>Dayton</td>\n",
              "      <td>Montgomery</td>\n",
              "      <td>OH</td>\n",
              "      <td>45424</td>\n",
              "      <td>US</td>\n",
              "      <td>US/Eastern</td>\n",
              "      <td>KFFO</td>\n",
              "      <td>2016-02-08 05:58:00</td>\n",
              "      <td>36.9</td>\n",
              "      <td>NaN</td>\n",
              "      <td>91.0</td>\n",
              "      <td>29.68</td>\n",
              "      <td>10.0</td>\n",
              "      <td>Calm</td>\n",
              "      <td>NaN</td>\n",
              "      <td>0.02</td>\n",
              "      <td>Light Rain</td>\n",
              "      <td>False</td>\n",
              "      <td>False</td>\n",
              "      <td>False</td>\n",
              "      <td>False</td>\n",
              "      <td>False</td>\n",
              "      <td>False</td>\n",
              "      <td>False</td>\n",
              "      <td>False</td>\n",
              "      <td>False</td>\n",
              "      <td>False</td>\n",
              "      <td>False</td>\n",
              "      <td>False</td>\n",
              "      <td>False</td>\n",
              "      <td>Night</td>\n",
              "      <td>Night</td>\n",
              "      <td>Night</td>\n",
              "      <td>Night</td>\n",
              "    </tr>\n",
              "    <tr>\n",
              "      <th>1</th>\n",
              "      <td>A-2</td>\n",
              "      <td>MapQuest</td>\n",
              "      <td>201.0</td>\n",
              "      <td>2</td>\n",
              "      <td>2016-02-08 06:07:59</td>\n",
              "      <td>2016-02-08 06:37:59</td>\n",
              "      <td>39.928059</td>\n",
              "      <td>-82.831184</td>\n",
              "      <td>NaN</td>\n",
              "      <td>NaN</td>\n",
              "      <td>0.01</td>\n",
              "      <td>Accident on Brice Rd at Tussing Rd. Expect del...</td>\n",
              "      <td>2584.0</td>\n",
              "      <td>Brice Rd</td>\n",
              "      <td>L</td>\n",
              "      <td>Reynoldsburg</td>\n",
              "      <td>Franklin</td>\n",
              "      <td>OH</td>\n",
              "      <td>43068-3402</td>\n",
              "      <td>US</td>\n",
              "      <td>US/Eastern</td>\n",
              "      <td>KCMH</td>\n",
              "      <td>2016-02-08 05:51:00</td>\n",
              "      <td>37.9</td>\n",
              "      <td>NaN</td>\n",
              "      <td>100.0</td>\n",
              "      <td>29.65</td>\n",
              "      <td>10.0</td>\n",
              "      <td>Calm</td>\n",
              "      <td>NaN</td>\n",
              "      <td>0.00</td>\n",
              "      <td>Light Rain</td>\n",
              "      <td>False</td>\n",
              "      <td>False</td>\n",
              "      <td>False</td>\n",
              "      <td>False</td>\n",
              "      <td>False</td>\n",
              "      <td>False</td>\n",
              "      <td>False</td>\n",
              "      <td>False</td>\n",
              "      <td>False</td>\n",
              "      <td>False</td>\n",
              "      <td>False</td>\n",
              "      <td>False</td>\n",
              "      <td>False</td>\n",
              "      <td>Night</td>\n",
              "      <td>Night</td>\n",
              "      <td>Night</td>\n",
              "      <td>Day</td>\n",
              "    </tr>\n",
              "    <tr>\n",
              "      <th>2</th>\n",
              "      <td>A-3</td>\n",
              "      <td>MapQuest</td>\n",
              "      <td>201.0</td>\n",
              "      <td>2</td>\n",
              "      <td>2016-02-08 06:49:27</td>\n",
              "      <td>2016-02-08 07:19:27</td>\n",
              "      <td>39.063148</td>\n",
              "      <td>-84.032608</td>\n",
              "      <td>NaN</td>\n",
              "      <td>NaN</td>\n",
              "      <td>0.01</td>\n",
              "      <td>Accident on OH-32 State Route 32 Westbound at ...</td>\n",
              "      <td>NaN</td>\n",
              "      <td>State Route 32</td>\n",
              "      <td>R</td>\n",
              "      <td>Williamsburg</td>\n",
              "      <td>Clermont</td>\n",
              "      <td>OH</td>\n",
              "      <td>45176</td>\n",
              "      <td>US</td>\n",
              "      <td>US/Eastern</td>\n",
              "      <td>KI69</td>\n",
              "      <td>2016-02-08 06:56:00</td>\n",
              "      <td>36.0</td>\n",
              "      <td>33.3</td>\n",
              "      <td>100.0</td>\n",
              "      <td>29.67</td>\n",
              "      <td>10.0</td>\n",
              "      <td>SW</td>\n",
              "      <td>3.5</td>\n",
              "      <td>NaN</td>\n",
              "      <td>Overcast</td>\n",
              "      <td>False</td>\n",
              "      <td>False</td>\n",
              "      <td>False</td>\n",
              "      <td>False</td>\n",
              "      <td>False</td>\n",
              "      <td>False</td>\n",
              "      <td>False</td>\n",
              "      <td>False</td>\n",
              "      <td>False</td>\n",
              "      <td>False</td>\n",
              "      <td>False</td>\n",
              "      <td>True</td>\n",
              "      <td>False</td>\n",
              "      <td>Night</td>\n",
              "      <td>Night</td>\n",
              "      <td>Day</td>\n",
              "      <td>Day</td>\n",
              "    </tr>\n",
              "    <tr>\n",
              "      <th>3</th>\n",
              "      <td>A-4</td>\n",
              "      <td>MapQuest</td>\n",
              "      <td>201.0</td>\n",
              "      <td>3</td>\n",
              "      <td>2016-02-08 07:23:34</td>\n",
              "      <td>2016-02-08 07:53:34</td>\n",
              "      <td>39.747753</td>\n",
              "      <td>-84.205582</td>\n",
              "      <td>NaN</td>\n",
              "      <td>NaN</td>\n",
              "      <td>0.01</td>\n",
              "      <td>Accident on I-75 Southbound at Exits 52 52B US...</td>\n",
              "      <td>NaN</td>\n",
              "      <td>I-75 S</td>\n",
              "      <td>R</td>\n",
              "      <td>Dayton</td>\n",
              "      <td>Montgomery</td>\n",
              "      <td>OH</td>\n",
              "      <td>45417</td>\n",
              "      <td>US</td>\n",
              "      <td>US/Eastern</td>\n",
              "      <td>KDAY</td>\n",
              "      <td>2016-02-08 07:38:00</td>\n",
              "      <td>35.1</td>\n",
              "      <td>31.0</td>\n",
              "      <td>96.0</td>\n",
              "      <td>29.64</td>\n",
              "      <td>9.0</td>\n",
              "      <td>SW</td>\n",
              "      <td>4.6</td>\n",
              "      <td>NaN</td>\n",
              "      <td>Mostly Cloudy</td>\n",
              "      <td>False</td>\n",
              "      <td>False</td>\n",
              "      <td>False</td>\n",
              "      <td>False</td>\n",
              "      <td>False</td>\n",
              "      <td>False</td>\n",
              "      <td>False</td>\n",
              "      <td>False</td>\n",
              "      <td>False</td>\n",
              "      <td>False</td>\n",
              "      <td>False</td>\n",
              "      <td>False</td>\n",
              "      <td>False</td>\n",
              "      <td>Night</td>\n",
              "      <td>Day</td>\n",
              "      <td>Day</td>\n",
              "      <td>Day</td>\n",
              "    </tr>\n",
              "    <tr>\n",
              "      <th>4</th>\n",
              "      <td>A-5</td>\n",
              "      <td>MapQuest</td>\n",
              "      <td>201.0</td>\n",
              "      <td>2</td>\n",
              "      <td>2016-02-08 07:39:07</td>\n",
              "      <td>2016-02-08 08:09:07</td>\n",
              "      <td>39.627781</td>\n",
              "      <td>-84.188354</td>\n",
              "      <td>NaN</td>\n",
              "      <td>NaN</td>\n",
              "      <td>0.01</td>\n",
              "      <td>Accident on McEwen Rd at OH-725 Miamisburg Cen...</td>\n",
              "      <td>NaN</td>\n",
              "      <td>Miamisburg Centerville Rd</td>\n",
              "      <td>R</td>\n",
              "      <td>Dayton</td>\n",
              "      <td>Montgomery</td>\n",
              "      <td>OH</td>\n",
              "      <td>45459</td>\n",
              "      <td>US</td>\n",
              "      <td>US/Eastern</td>\n",
              "      <td>KMGY</td>\n",
              "      <td>2016-02-08 07:53:00</td>\n",
              "      <td>36.0</td>\n",
              "      <td>33.3</td>\n",
              "      <td>89.0</td>\n",
              "      <td>29.65</td>\n",
              "      <td>6.0</td>\n",
              "      <td>SW</td>\n",
              "      <td>3.5</td>\n",
              "      <td>NaN</td>\n",
              "      <td>Mostly Cloudy</td>\n",
              "      <td>False</td>\n",
              "      <td>False</td>\n",
              "      <td>False</td>\n",
              "      <td>False</td>\n",
              "      <td>False</td>\n",
              "      <td>False</td>\n",
              "      <td>False</td>\n",
              "      <td>False</td>\n",
              "      <td>False</td>\n",
              "      <td>False</td>\n",
              "      <td>False</td>\n",
              "      <td>True</td>\n",
              "      <td>False</td>\n",
              "      <td>Day</td>\n",
              "      <td>Day</td>\n",
              "      <td>Day</td>\n",
              "      <td>Day</td>\n",
              "    </tr>\n",
              "  </tbody>\n",
              "</table>\n",
              "</div>"
            ],
            "text/plain": [
              "    ID    Source    TMC  ...  Civil_Twilight Nautical_Twilight Astronomical_Twilight\n",
              "0  A-1  MapQuest  201.0  ...           Night             Night                 Night\n",
              "1  A-2  MapQuest  201.0  ...           Night             Night                   Day\n",
              "2  A-3  MapQuest  201.0  ...           Night               Day                   Day\n",
              "3  A-4  MapQuest  201.0  ...             Day               Day                   Day\n",
              "4  A-5  MapQuest  201.0  ...             Day               Day                   Day\n",
              "\n",
              "[5 rows x 49 columns]"
            ]
          },
          "metadata": {
            "tags": []
          },
          "execution_count": 42
        }
      ]
    },
    {
      "cell_type": "markdown",
      "metadata": {
        "id": "keeSH0ErsUcw",
        "colab_type": "text"
      },
      "source": [
        "## Create two dataframes\n",
        "- Df for Decision Tree\n",
        "- Df for Apriori"
      ]
    },
    {
      "cell_type": "code",
      "metadata": {
        "id": "lHHkDBwTm-iQ",
        "colab_type": "code",
        "colab": {}
      },
      "source": [
        "dropColumns = ['ID', 'Country', 'Source', 'TMC', 'Start_Time', 'End_Time', 'Start_Lat', 'Start_Lng', 'End_Lng', 'End_Lat', \n",
        "               'Description', 'Number', 'Street', 'Side', 'City', 'County', 'State', 'Zipcode', \n",
        "               'Timezone', 'Airport_Code', 'Weather_Timestamp', 'Traffic_Calming', 'Traffic_Signal', 'Turning_Loop', 'Amenity', 'Bump', 'Crossing', 'Give_Way', 'Junction', 'No_Exit', 'Railway', 'Roundabout', 'Station', 'Stop']\n",
        "\n",
        "dropColumnsForAp = ['ID', 'Country', 'Source', 'TMC', 'Start_Time', 'End_Time', 'Start_Lat', 'Start_Lng', 'End_Lng', 'End_Lat',  \n",
        "                    'Description', 'Number', 'Street', 'Side', 'City', 'County', 'State', 'Zipcode', \n",
        "                   'Timezone', 'Airport_Code', 'Weather_Timestamp', 'Severity', 'Distance(mi)', 'Country', 'Temperature(F)', 'Wind_Chill(F)', 'Humidity(%)', 'Pressure(in)', \n",
        "                    'Visibility(mi)', 'Wind_Direction', 'Wind_Speed(mph)','Precipitation(in)','Weather_Condition', \n",
        "                    'Sunrise_Sunset','Civil_Twilight', 'Nautical_Twilight', 'Astronomical_Twilight']\n",
        "\n",
        "\n",
        "accident_df = accident.drop(columns=dropColumns, axis = 1)\n",
        "obstacle_df = accident.drop(columns=dropColumnsForAp, axis = 1)\n"
      ],
      "execution_count": 0,
      "outputs": []
    },
    {
      "cell_type": "code",
      "metadata": {
        "id": "xbDkfXlRv5IA",
        "colab_type": "code",
        "colab": {}
      },
      "source": [
        "accident_df.dropna(axis=0, inplace=True)\n",
        "obstacle_df.dropna(axis=0, inplace=True)"
      ],
      "execution_count": 0,
      "outputs": []
    },
    {
      "cell_type": "markdown",
      "metadata": {
        "id": "TTWU4knZz_Zb",
        "colab_type": "text"
      },
      "source": [
        "## Drop Na's"
      ]
    },
    {
      "cell_type": "code",
      "metadata": {
        "id": "D10cTW6wocC_",
        "colab_type": "code",
        "outputId": "8d7f67d8-9d19-4d75-f6f4-e84f1b8d2ffc",
        "colab": {
          "base_uri": "https://localhost:8080/",
          "height": 53
        }
      },
      "source": [
        "print(\"Accident_Df: \", accident_df.shape)\n",
        "print(\"Obstacle_Df: \", obstacle_df.shape)"
      ],
      "execution_count": 45,
      "outputs": [
        {
          "output_type": "stream",
          "text": [
            "Accident_Df:  (779721, 15)\n",
            "Obstacle_Df:  (2974335, 13)\n"
          ],
          "name": "stdout"
        }
      ]
    },
    {
      "cell_type": "code",
      "metadata": {
        "id": "GdtDMWRk4TYG",
        "colab_type": "code",
        "colab": {}
      },
      "source": [
        "accident_df = accident_df.drop(columns=['Wind_Direction'])"
      ],
      "execution_count": 0,
      "outputs": []
    },
    {
      "cell_type": "markdown",
      "metadata": {
        "id": "MSaMqSrOXU6M",
        "colab_type": "text"
      },
      "source": [
        "## Discretize the following continuous valued columns"
      ]
    },
    {
      "cell_type": "code",
      "metadata": {
        "id": "A_MrQJ4q4l8e",
        "colab_type": "code",
        "colab": {}
      },
      "source": [
        "\n",
        "accident_df['Distance(mi)'].max() #0 - 185\n",
        "accident_df['Distance(mi)'] = pd.cut(accident_df['Distance(mi)'], bins=[-1,30,100,184], labels=['short', 'medium', 'far'])\n",
        "\n"
      ],
      "execution_count": 0,
      "outputs": []
    },
    {
      "cell_type": "code",
      "metadata": {
        "id": "k7Tdsw4HFqZR",
        "colab_type": "code",
        "colab": {}
      },
      "source": [
        "accident_df['Temperature(F)'].max() #-24 - 115.0\n",
        "accident_df['Temperature(F)'] = pd.cut(accident_df['Temperature(F)'], bins=[-25,25,60,95,116], labels=['freezing', 'cold', 'normal','vhot'])"
      ],
      "execution_count": 0,
      "outputs": []
    },
    {
      "cell_type": "code",
      "metadata": {
        "id": "8FqZBVjPG5lP",
        "colab_type": "code",
        "colab": {}
      },
      "source": [
        "accident_df['Wind_Chill(F)'].min() #-52.7 - 115.0\n",
        "accident_df['Wind_Chill(F)'] = pd.cut(accident_df['Wind_Chill(F)'], bins=[-53,25,60,95,116], labels=['freezing', 'cold', 'normal','vhot'])"
      ],
      "execution_count": 0,
      "outputs": []
    },
    {
      "cell_type": "code",
      "metadata": {
        "id": "kf3Mko_THOCS",
        "colab_type": "code",
        "colab": {}
      },
      "source": [
        "accident_df['Humidity(%)'].max() #1.0 - 100.0\n",
        "accident_df['Humidity(%)'] = pd.cut(accident_df['Humidity(%)'], bins=[-1,33, 66, 101], labels=['low', 'medium', 'high'])"
      ],
      "execution_count": 0,
      "outputs": []
    },
    {
      "cell_type": "code",
      "metadata": {
        "id": "VlHLQpu7MIKr",
        "colab_type": "code",
        "colab": {}
      },
      "source": [
        "accident_df['Pressure(in)'].min() #19.48 - 31.1\n",
        "accident_df['Pressure(in)'] = pd.cut(accident_df['Pressure(in)'], bins=[18,23, 28, 32], labels=['low', 'medium', 'high'])"
      ],
      "execution_count": 0,
      "outputs": []
    },
    {
      "cell_type": "code",
      "metadata": {
        "id": "gOFZeklLMzeA",
        "colab_type": "code",
        "colab": {}
      },
      "source": [
        "accident_df['Visibility(mi)'].max() #0.0 - 90\n",
        "accident_df['Visibility(mi)'] = pd.cut(accident_df['Visibility(mi)'], bins=[-1,33, 66, 91], labels=['poor', 'so-so', 'good'])"
      ],
      "execution_count": 0,
      "outputs": []
    },
    {
      "cell_type": "code",
      "metadata": {
        "id": "KCMcYYNHNP3m",
        "colab_type": "code",
        "colab": {}
      },
      "source": [
        "accident_df['Wind_Speed(mph)'].min() #0.0 - 255\n",
        "accident_df['Wind_Speed(mph)'] = pd.cut(accident_df['Wind_Speed(mph)'], bins=[-1,5, 15, 30,  66, 100, 255], labels=['none','vlow', 'low', 'med', 'high', 'vhigh'])"
      ],
      "execution_count": 0,
      "outputs": []
    },
    {
      "cell_type": "code",
      "metadata": {
        "id": "eGat4LtfN8yu",
        "colab_type": "code",
        "colab": {}
      },
      "source": [
        "accident_df['Precipitation(in)'].max() #0.0 - 25\n",
        "accident_df['Precipitation(in)'] = pd.cut(accident_df['Precipitation(in)'], bins=[-1,5, 15, 25,  31], labels=[ 'low', 'med', 'high', 'vhigh'])"
      ],
      "execution_count": 0,
      "outputs": []
    },
    {
      "cell_type": "code",
      "metadata": {
        "id": "QhWF9x5Bwmmk",
        "colab_type": "code",
        "colab": {}
      },
      "source": [
        "yDrop = ['Distance(mi)',\t'Temperature(F)',\t'Wind_Chill(F)',\t'Humidity(%)'\t,'Pressure(in)','Visibility(mi)',\t'Wind_Speed(mph)','Precipitation(in)',\t'Weather_Condition',\t'Sunrise_Sunset',\t'Civil_Twilight',\n",
        "        \t'Nautical_Twilight',\t'Astronomical_Twilight']\n",
        "\n",
        "y = accident_df.drop(yDrop, axis=1)\n",
        "x = accident_df.drop(['Severity'], axis=1)\n",
        "\n",
        "y = pd.get_dummies(y)\n",
        "x = pd.get_dummies(x, ['Distance(mi)',\t'Temperature(F)',\t'Wind_Chill(F)',\t'Humidity(%)'\t,'Pressure(in)','Visibility(mi)',\t'Wind_Speed(mph)','Precipitation(in)',\t'Weather_Condition',\t'Sunrise_Sunset',\t'Civil_Twilight',\n",
        "        \t'Nautical_Twilight',\t'Astronomical_Twilight'])"
      ],
      "execution_count": 0,
      "outputs": []
    },
    {
      "cell_type": "markdown",
      "metadata": {
        "id": "XdA8X97oXd2x",
        "colab_type": "text"
      },
      "source": [
        "## Split dataset into Train and test,"
      ]
    },
    {
      "cell_type": "code",
      "metadata": {
        "id": "ty-PNUXqQK3M",
        "colab_type": "code",
        "colab": {}
      },
      "source": [
        "X_TRAIN, X_TEST, Y_TRAIN, Y_TEST = train_test_split(x, y, test_size=0.2, random_state=41)\n"
      ],
      "execution_count": 0,
      "outputs": []
    },
    {
      "cell_type": "markdown",
      "metadata": {
        "id": "PaUXKZDlXhKX",
        "colab_type": "text"
      },
      "source": [
        "## Implement Sklearn Decision Tree Classifier"
      ]
    },
    {
      "cell_type": "code",
      "metadata": {
        "id": "sPeOZYWNAffA",
        "colab_type": "code",
        "colab": {}
      },
      "source": [
        "from sklearn import tree"
      ],
      "execution_count": 0,
      "outputs": []
    },
    {
      "cell_type": "code",
      "metadata": {
        "id": "61I2B6s8AwUn",
        "colab_type": "code",
        "outputId": "31d03f3a-1b5d-4957-9fe5-d703e25ecafe",
        "colab": {
          "base_uri": "https://localhost:8080/",
          "height": 374
        }
      },
      "source": [
        "clf2 = DecisionTreeClassifier(max_depth=2)\n",
        "clf2 = clf2.fit(X_TRAIN, Y_TRAIN)\n",
        "tree.plot_tree(clf2) "
      ],
      "execution_count": 58,
      "outputs": [
        {
          "output_type": "execute_result",
          "data": {
            "text/plain": [
              "[Text(167.4, 181.2, 'X[40] <= 0.5\\ngini = 0.42\\nsamples = 623776\\nvalue = [149, 448354, 156481, 18792]'),\n",
              " Text(83.7, 108.72, 'X[20] <= 0.5\\ngini = 0.441\\nsamples = 372630\\nvalue = [89, 258961, 101897, 11683]'),\n",
              " Text(41.85, 36.23999999999998, 'gini = 0.456\\nsamples = 256659\\nvalue = [55, 173817, 74481, 8306]'),\n",
              " Text(125.55000000000001, 36.23999999999998, 'gini = 0.404\\nsamples = 115971\\nvalue = [34, 85144, 27416, 3377]'),\n",
              " Text(251.10000000000002, 108.72, 'X[11] <= 0.5\\ngini = 0.383\\nsamples = 251146\\nvalue = [60, 189393, 54584, 7109]'),\n",
              " Text(209.25, 36.23999999999998, 'gini = 0.393\\nsamples = 208897\\nvalue = [51, 155709, 46899, 6238]'),\n",
              " Text(292.95, 36.23999999999998, 'gini = 0.331\\nsamples = 42249\\nvalue = [9, 33684, 7685, 871]')]"
            ]
          },
          "metadata": {
            "tags": []
          },
          "execution_count": 58
        },
        {
          "output_type": "display_data",
          "data": {
            "image/png": "[encoded data removed]",
            "text/plain": [
              "<Figure size 432x288 with 1 Axes>"
            ]
          },
          "metadata": {
            "tags": [],
            "needs_background": "light"
          }
        }
      ]
    },
    {
      "cell_type": "code",
      "metadata": {
        "id": "XeT3AuBlTu7u",
        "colab_type": "code",
        "outputId": "6fcf1d2c-d48f-400b-886f-417c121809f5",
        "colab": {
          "base_uri": "https://localhost:8080/",
          "height": 806
        }
      },
      "source": [
        "clf4 = DecisionTreeClassifier(max_depth=4)\n",
        "clf4 = clf4.fit(X_TRAIN, Y_TRAIN)\n",
        "tree.plot_tree(clf4) "
      ],
      "execution_count": 59,
      "outputs": [
        {
          "output_type": "execute_result",
          "data": {
            "text/plain": [
              "[Text(167.4, 195.696, 'X[40] <= 0.5\\ngini = 0.42\\nsamples = 623776\\nvalue = [149, 448354, 156481, 18792]'),\n",
              " Text(83.7, 152.208, 'X[20] <= 0.5\\ngini = 0.441\\nsamples = 372630\\nvalue = [89, 258961, 101897, 11683]'),\n",
              " Text(41.85, 108.72, 'X[79] <= 0.5\\ngini = 0.456\\nsamples = 256659\\nvalue = [55, 173817, 74481, 8306]'),\n",
              " Text(20.925, 65.232, 'X[138] <= 0.5\\ngini = 0.449\\nsamples = 233866\\nvalue = [49, 160153, 66396, 7268]'),\n",
              " Text(10.4625, 21.744, 'gini = 0.442\\nsamples = 210098\\nvalue = [42, 145368, 59050, 5638]'),\n",
              " Text(31.387500000000003, 21.744, 'gini = 0.513\\nsamples = 23768\\nvalue = [7, 14785, 7346, 1630]'),\n",
              " Text(62.775000000000006, 65.232, 'X[137] <= 0.5\\ngini = 0.513\\nsamples = 22793\\nvalue = [6, 13664, 8085, 1038]'),\n",
              " Text(52.3125, 21.744, 'gini = 0.561\\nsamples = 4084\\nvalue = [0, 2051, 1738, 295]'),\n",
              " Text(73.2375, 21.744, 'gini = 0.498\\nsamples = 18709\\nvalue = [6, 11613, 6347, 743]'),\n",
              " Text(125.55000000000001, 108.72, 'X[42] <= 0.5\\ngini = 0.404\\nsamples = 115971\\nvalue = [34, 85144, 27416, 3377]'),\n",
              " Text(104.625, 65.232, 'X[79] <= 0.5\\ngini = 0.408\\nsamples = 110145\\nvalue = [34, 80407, 26491, 3213]'),\n",
              " Text(94.16250000000001, 21.744, 'gini = 0.405\\nsamples = 106290\\nvalue = [34, 77932, 25305, 3019]'),\n",
              " Text(115.0875, 21.744, 'gini = 0.491\\nsamples = 3855\\nvalue = [0, 2475, 1186, 194]'),\n",
              " Text(146.475, 65.232, 'X[138] <= 0.5\\ngini = 0.313\\nsamples = 5826\\nvalue = [0, 4737, 925, 164]'),\n",
              " Text(136.01250000000002, 21.744, 'gini = 0.304\\nsamples = 4784\\nvalue = [0, 3918, 758, 108]'),\n",
              " Text(156.9375, 21.744, 'gini = 0.354\\nsamples = 1042\\nvalue = [0, 819, 167, 56]'),\n",
              " Text(251.10000000000002, 152.208, 'X[11] <= 0.5\\ngini = 0.383\\nsamples = 251146\\nvalue = [60, 189393, 54584, 7109]'),\n",
              " Text(209.25, 108.72, 'X[20] <= 0.5\\ngini = 0.393\\nsamples = 208897\\nvalue = [51, 155709, 46899, 6238]'),\n",
              " Text(188.32500000000002, 65.232, 'X[137] <= 0.5\\ngini = 0.41\\nsamples = 110069\\nvalue = [27, 80169, 26624, 3249]'),\n",
              " Text(177.8625, 21.744, 'gini = 0.477\\nsamples = 9066\\nvalue = [3, 6094, 2330, 639]'),\n",
              " Text(198.7875, 21.744, 'gini = 0.404\\nsamples = 101003\\nvalue = [24, 74075, 24294, 2610]'),\n",
              " Text(230.175, 65.232, 'X[138] <= 0.5\\ngini = 0.373\\nsamples = 98828\\nvalue = [24, 75540, 20275, 2989]'),\n",
              " Text(219.7125, 21.744, 'gini = 0.358\\nsamples = 79314\\nvalue = [19, 61436, 16073, 1786]'),\n",
              " Text(240.63750000000002, 21.744, 'gini = 0.427\\nsamples = 19514\\nvalue = [5, 14104, 4202, 1203]'),\n",
              " Text(292.95, 108.72, 'X[16] <= 0.5\\ngini = 0.331\\nsamples = 42249\\nvalue = [9, 33684, 7685, 871]'),\n",
              " Text(272.02500000000003, 65.232, 'X[14] <= 0.5\\ngini = 0.392\\nsamples = 6923\\nvalue = [2, 5192, 1441, 288]'),\n",
              " Text(261.5625, 21.744, 'gini = 0.389\\nsamples = 6859\\nvalue = [2, 5165, 1412, 280]'),\n",
              " Text(282.4875, 21.744, 'gini = 0.601\\nsamples = 64\\nvalue = [0, 27, 29, 8]'),\n",
              " Text(313.875, 65.232, 'X[20] <= 0.5\\ngini = 0.318\\nsamples = 35326\\nvalue = [7, 28492, 6244, 583]'),\n",
              " Text(303.4125, 21.744, 'gini = 0.334\\nsamples = 23630\\nvalue = [5, 18759, 4447, 419]'),\n",
              " Text(324.33750000000003, 21.744, 'gini = 0.284\\nsamples = 11696\\nvalue = [2, 9733, 1797, 164]')]"
            ]
          },
          "metadata": {
            "tags": []
          },
          "execution_count": 59
        },
        {
          "output_type": "display_data",
          "data": {
            "image/png": "[encoded data removed]",
            "text/plain": [
              "<Figure size 432x288 with 1 Axes>"
            ]
          },
          "metadata": {
            "tags": [],
            "needs_background": "light"
          }
        }
      ]
    },
    {
      "cell_type": "code",
      "metadata": {
        "id": "ZyFT86eKTxIN",
        "colab_type": "code",
        "colab": {}
      },
      "source": [
        ""
      ],
      "execution_count": 0,
      "outputs": []
    },
    {
      "cell_type": "code",
      "metadata": {
        "id": "JNsNRiTXOqAe",
        "colab_type": "code",
        "outputId": "721b3e40-1b7a-4dc5-d5e8-e56134cffa89",
        "colab": {
          "base_uri": "https://localhost:8080/",
          "height": 1000
        }
      },
      "source": [
        "clf6 = DecisionTreeClassifier(max_depth=6)\n",
        "clf6 = clf6.fit(X_TRAIN, Y_TRAIN)\n",
        "tree.plot_tree(clf6) "
      ],
      "execution_count": 60,
      "outputs": [
        {
          "output_type": "execute_result",
          "data": {
            "text/plain": [
              "[Text(167.4, 201.90857142857143, 'X[40] <= 0.5\\ngini = 0.42\\nsamples = 623776\\nvalue = [149, 448354, 156481, 18792]'),\n",
              " Text(83.7, 170.84571428571428, 'X[20] <= 0.5\\ngini = 0.441\\nsamples = 372630\\nvalue = [89, 258961, 101897, 11683]'),\n",
              " Text(41.85, 139.78285714285715, 'X[79] <= 0.5\\ngini = 0.456\\nsamples = 256659\\nvalue = [55, 173817, 74481, 8306]'),\n",
              " Text(20.925, 108.72, 'X[138] <= 0.5\\ngini = 0.449\\nsamples = 233866\\nvalue = [49, 160153, 66396, 7268]'),\n",
              " Text(10.4625, 77.65714285714284, 'X[35] <= 0.5\\ngini = 0.442\\nsamples = 210098\\nvalue = [42, 145368, 59050, 5638]'),\n",
              " Text(5.23125, 46.59428571428572, 'X[95] <= 0.5\\ngini = 0.449\\nsamples = 161877\\nvalue = [34, 110613, 46823, 4407]'),\n",
              " Text(2.615625, 15.531428571428563, 'gini = 0.455\\nsamples = 122113\\nvalue = [23, 82504, 36217, 3369]'),\n",
              " Text(7.846875000000001, 15.531428571428563, 'gini = 0.428\\nsamples = 39764\\nvalue = [11, 28109, 10606, 1038]'),\n",
              " Text(15.693750000000001, 46.59428571428572, 'X[5] <= 0.5\\ngini = 0.416\\nsamples = 48221\\nvalue = [8, 34755, 12227, 1231]'),\n",
              " Text(13.078125, 15.531428571428563, 'gini = 0.401\\nsamples = 23196\\nvalue = [4, 17061, 5563, 568]'),\n",
              " Text(18.309375, 15.531428571428563, 'gini = 0.428\\nsamples = 25025\\nvalue = [4, 17694, 6664, 663]'),\n",
              " Text(31.387500000000003, 77.65714285714284, 'X[11] <= 0.5\\ngini = 0.513\\nsamples = 23768\\nvalue = [7, 14785, 7346, 1630]'),\n",
              " Text(26.15625, 46.59428571428572, 'X[8] <= 0.5\\ngini = 0.516\\nsamples = 23031\\nvalue = [7, 14207, 7224, 1593]'),\n",
              " Text(23.540625000000002, 15.531428571428563, 'gini = 0.545\\nsamples = 9072\\nvalue = [4, 5235, 3082, 751]'),\n",
              " Text(28.771875, 15.531428571428563, 'gini = 0.495\\nsamples = 13959\\nvalue = [3, 8972, 4142, 842]'),\n",
              " Text(36.61875, 46.59428571428572, 'X[131] <= 0.5\\ngini = 0.355\\nsamples = 737\\nvalue = [0, 578, 122, 37]'),\n",
              " Text(34.003125000000004, 15.531428571428563, 'gini = 0.347\\nsamples = 728\\nvalue = [0, 575, 121, 32]'),\n",
              " Text(39.234375, 15.531428571428563, 'gini = 0.568\\nsamples = 9\\nvalue = [0, 3, 1, 5]'),\n",
              " Text(62.775000000000006, 108.72, 'X[137] <= 0.5\\ngini = 0.513\\nsamples = 22793\\nvalue = [6, 13664, 8085, 1038]'),\n",
              " Text(52.3125, 77.65714285714284, 'X[15] <= 0.5\\ngini = 0.561\\nsamples = 4084\\nvalue = [0, 2051, 1738, 295]'),\n",
              " Text(47.081250000000004, 46.59428571428572, 'X[16] <= 0.5\\ngini = 0.563\\nsamples = 3959\\nvalue = [0, 1958, 1714, 287]'),\n",
              " Text(44.465625, 15.531428571428563, 'gini = 0.611\\nsamples = 18\\nvalue = [0, 3, 6, 9]'),\n",
              " Text(49.696875, 15.531428571428563, 'gini = 0.561\\nsamples = 3941\\nvalue = [0, 1955, 1708, 278]'),\n",
              " Text(57.54375, 46.59428571428572, 'X[21] <= 0.5\\ngini = 0.406\\nsamples = 125\\nvalue = [0, 93, 24, 8]'),\n",
              " Text(54.928125, 15.531428571428563, 'gini = 0.556\\nsamples = 13\\nvalue = [0, 7, 5, 1]'),\n",
              " Text(60.159375000000004, 15.531428571428563, 'gini = 0.378\\nsamples = 112\\nvalue = [0, 86, 19, 7]'),\n",
              " Text(73.2375, 77.65714285714284, 'X[0] <= 0.5\\ngini = 0.498\\nsamples = 18709\\nvalue = [6, 11613, 6347, 743]'),\n",
              " Text(68.00625000000001, 46.59428571428572, 'X[8] <= 0.5\\ngini = 0.532\\nsamples = 27\\nvalue = [0, 2, 9, 16]'),\n",
              " Text(65.390625, 15.531428571428563, 'gini = 0.486\\nsamples = 24\\nvalue = [0, 2, 6, 16]'),\n",
              " Text(70.621875, 15.531428571428563, 'gini = 0.0\\nsamples = 3\\nvalue = [0, 0, 3, 0]'),\n",
              " Text(78.46875, 46.59428571428572, 'X[14] <= 0.5\\ngini = 0.497\\nsamples = 18682\\nvalue = [6, 11611, 6338, 727]'),\n",
              " Text(75.853125, 15.531428571428563, 'gini = 0.496\\nsamples = 18640\\nvalue = [6, 11600, 6323, 711]'),\n",
              " Text(81.08437500000001, 15.531428571428563, 'gini = 0.659\\nsamples = 42\\nvalue = [0, 11, 15, 16]'),\n",
              " Text(125.55000000000001, 139.78285714285715, 'X[42] <= 0.5\\ngini = 0.404\\nsamples = 115971\\nvalue = [34, 85144, 27416, 3377]'),\n",
              " Text(104.625, 108.72, 'X[79] <= 0.5\\ngini = 0.408\\nsamples = 110145\\nvalue = [34, 80407, 26491, 3213]'),\n",
              " Text(94.16250000000001, 77.65714285714284, 'X[138] <= 0.5\\ngini = 0.405\\nsamples = 106290\\nvalue = [34, 77932, 25305, 3019]'),\n",
              " Text(88.93125, 46.59428571428572, 'X[8] <= 0.5\\ngini = 0.396\\nsamples = 89631\\nvalue = [33, 66285, 21246, 2067]'),\n",
              " Text(86.315625, 15.531428571428563, 'gini = 0.406\\nsamples = 53623\\nvalue = [12, 39134, 13218, 1259]'),\n",
              " Text(91.546875, 15.531428571428563, 'gini = 0.381\\nsamples = 36008\\nvalue = [21, 27151, 8028, 808]'),\n",
              " Text(99.39375, 46.59428571428572, 'X[8] <= 0.5\\ngini = 0.449\\nsamples = 16659\\nvalue = [1, 11647, 4059, 952]'),\n",
              " Text(96.778125, 15.531428571428563, 'gini = 0.493\\nsamples = 6166\\nvalue = [0, 4036, 1666, 464]'),\n",
              " Text(102.009375, 15.531428571428563, 'gini = 0.42\\nsamples = 10493\\nvalue = [1, 7611, 2393, 488]'),\n",
              " Text(115.0875, 77.65714285714284, 'X[138] <= 0.5\\ngini = 0.491\\nsamples = 3855\\nvalue = [0, 2475, 1186, 194]'),\n",
              " Text(109.85625, 46.59428571428572, 'X[15] <= 0.5\\ngini = 0.468\\nsamples = 3046\\nvalue = [0, 2023, 914, 109]'),\n",
              " Text(107.24062500000001, 15.531428571428563, 'gini = 0.473\\nsamples = 2703\\nvalue = [0, 1769, 842, 92]'),\n",
              " Text(112.471875, 15.531428571428563, 'gini = 0.405\\nsamples = 343\\nvalue = [0, 254, 72, 17]'),\n",
              " Text(120.31875000000001, 46.59428571428572, 'X[7] <= 0.5\\ngini = 0.564\\nsamples = 809\\nvalue = [0, 452, 272, 85]'),\n",
              " Text(117.703125, 15.531428571428563, 'gini = 0.544\\nsamples = 384\\nvalue = [0, 233, 103, 48]'),\n",
              " Text(122.934375, 15.531428571428563, 'gini = 0.569\\nsamples = 425\\nvalue = [0, 219, 169, 37]'),\n",
              " Text(146.475, 108.72, 'X[137] <= 0.5\\ngini = 0.313\\nsamples = 5826\\nvalue = [0, 4737, 925, 164]'),\n",
              " Text(136.01250000000002, 77.65714285714284, 'X[15] <= 0.5\\ngini = 0.354\\nsamples = 1042\\nvalue = [0, 819, 167, 56]'),\n",
              " Text(130.78125, 46.59428571428572, 'X[9] <= 0.5\\ngini = 0.364\\nsamples = 984\\nvalue = [0, 766, 162, 56]'),\n",
              " Text(128.165625, 15.531428571428563, 'gini = 0.352\\nsamples = 825\\nvalue = [0, 650, 129, 46]'),\n",
              " Text(133.396875, 15.531428571428563, 'gini = 0.421\\nsamples = 159\\nvalue = [0, 116, 33, 10]'),\n",
              " Text(141.24375, 46.59428571428572, 'X[9] <= 0.5\\ngini = 0.158\\nsamples = 58\\nvalue = [0, 53, 5, 0]'),\n",
              " Text(138.628125, 15.531428571428563, 'gini = 0.131\\nsamples = 57\\nvalue = [0, 53, 4, 0]'),\n",
              " Text(143.859375, 15.531428571428563, 'gini = 0.0\\nsamples = 1\\nvalue = [0, 0, 1, 0]'),\n",
              " Text(156.9375, 77.65714285714284, 'X[14] <= 0.5\\ngini = 0.304\\nsamples = 4784\\nvalue = [0, 3918, 758, 108]'),\n",
              " Text(151.70625, 46.59428571428572, 'X[8] <= 0.5\\ngini = 0.303\\nsamples = 4778\\nvalue = [0, 3914, 758, 106]'),\n",
              " Text(149.09062500000002, 15.531428571428563, 'gini = 0.322\\nsamples = 1645\\nvalue = [0, 1327, 266, 52]'),\n",
              " Text(154.321875, 15.531428571428563, 'gini = 0.293\\nsamples = 3133\\nvalue = [0, 2587, 492, 54]'),\n",
              " Text(162.16875000000002, 46.59428571428572, 'X[3] <= 0.5\\ngini = 0.444\\nsamples = 6\\nvalue = [0, 4, 0, 2]'),\n",
              " Text(159.553125, 15.531428571428563, 'gini = 0.5\\nsamples = 4\\nvalue = [0, 2, 0, 2]'),\n",
              " Text(164.784375, 15.531428571428563, 'gini = 0.0\\nsamples = 2\\nvalue = [0, 2, 0, 0]'),\n",
              " Text(251.10000000000002, 170.84571428571428, 'X[11] <= 0.5\\ngini = 0.383\\nsamples = 251146\\nvalue = [60, 189393, 54584, 7109]'),\n",
              " Text(209.25, 139.78285714285715, 'X[20] <= 0.5\\ngini = 0.393\\nsamples = 208897\\nvalue = [51, 155709, 46899, 6238]'),\n",
              " Text(188.32500000000002, 108.72, 'X[137] <= 0.5\\ngini = 0.41\\nsamples = 110069\\nvalue = [27, 80169, 26624, 3249]'),\n",
              " Text(177.8625, 77.65714285714284, 'X[8] <= 0.5\\ngini = 0.477\\nsamples = 9066\\nvalue = [3, 6094, 2330, 639]'),\n",
              " Text(172.63125, 46.59428571428572, 'X[134] <= 0.5\\ngini = 0.508\\nsamples = 5193\\nvalue = [3, 3323, 1429, 438]'),\n",
              " Text(170.015625, 15.531428571428563, 'gini = 0.507\\nsamples = 69\\nvalue = [0, 24, 42, 3]'),\n",
              " Text(175.24687500000002, 15.531428571428563, 'gini = 0.505\\nsamples = 5124\\nvalue = [3, 3299, 1387, 435]'),\n",
              " Text(183.09375, 46.59428571428572, 'X[16] <= 0.5\\ngini = 0.431\\nsamples = 3873\\nvalue = [0, 2771, 901, 201]'),\n",
              " Text(180.478125, 15.531428571428563, 'gini = 0.429\\nsamples = 404\\nvalue = [0, 295, 66, 43]'),\n",
              " Text(185.709375, 15.531428571428563, 'gini = 0.431\\nsamples = 3469\\nvalue = [0, 2476, 835, 158]'),\n",
              " Text(198.7875, 77.65714285714284, 'X[12] <= 0.5\\ngini = 0.404\\nsamples = 101003\\nvalue = [24, 74075, 24294, 2610]'),\n",
              " Text(193.55625, 46.59428571428572, 'X[9] <= 0.5\\ngini = 0.376\\nsamples = 28075\\nvalue = [5, 21313, 6093, 664]'),\n",
              " Text(190.940625, 15.531428571428563, 'gini = 0.347\\nsamples = 8845\\nvalue = [1, 6939, 1706, 199]'),\n",
              " Text(196.171875, 15.531428571428563, 'gini = 0.389\\nsamples = 19230\\nvalue = [4, 14374, 4387, 465]'),\n",
              " Text(204.01875, 46.59428571428572, 'X[0] <= 0.5\\ngini = 0.414\\nsamples = 72928\\nvalue = [19, 52762, 18201, 1946]'),\n",
              " Text(201.40312500000002, 15.531428571428563, 'gini = 0.567\\nsamples = 17\\nvalue = [0, 4, 10, 3]'),\n",
              " Text(206.634375, 15.531428571428563, 'gini = 0.413\\nsamples = 72911\\nvalue = [19, 52758, 18191, 1943]'),\n",
              " Text(230.175, 108.72, 'X[138] <= 0.5\\ngini = 0.373\\nsamples = 98828\\nvalue = [24, 75540, 20275, 2989]'),\n",
              " Text(219.7125, 77.65714285714284, 'X[5] <= 0.5\\ngini = 0.358\\nsamples = 79314\\nvalue = [19, 61436, 16073, 1786]'),\n",
              " Text(214.48125000000002, 46.59428571428572, 'X[13] <= 0.5\\ngini = 0.334\\nsamples = 28800\\nvalue = [9, 22880, 5356, 555]'),\n",
              " Text(211.865625, 15.531428571428563, 'gini = 0.363\\nsamples = 9839\\nvalue = [5, 7582, 2028, 224]'),\n",
              " Text(217.096875, 15.531428571428563, 'gini = 0.318\\nsamples = 18961\\nvalue = [4, 15298, 3328, 331]'),\n",
              " Text(224.94375, 46.59428571428572, 'X[132] <= 0.5\\ngini = 0.372\\nsamples = 50514\\nvalue = [10, 38556, 10717, 1231]'),\n",
              " Text(222.328125, 15.531428571428563, 'gini = 0.367\\nsamples = 41827\\nvalue = [9, 32103, 8763, 952]'),\n",
              " Text(227.55937500000002, 15.531428571428563, 'gini = 0.397\\nsamples = 8687\\nvalue = [1, 6453, 1954, 279]'),\n",
              " Text(240.63750000000002, 77.65714285714284, 'X[12] <= 0.5\\ngini = 0.427\\nsamples = 19514\\nvalue = [5, 14104, 4202, 1203]'),\n",
              " Text(235.40625, 46.59428571428572, 'X[5] <= 0.5\\ngini = 0.447\\nsamples = 13409\\nvalue = [2, 9465, 3005, 937]'),\n",
              " Text(232.790625, 15.531428571428563, 'gini = 0.409\\nsamples = 7444\\nvalue = [1, 5495, 1558, 390]'),\n",
              " Text(238.021875, 15.531428571428563, 'gini = 0.49\\nsamples = 5965\\nvalue = [1, 3970, 1447, 547]'),\n",
              " Text(245.86875, 46.59428571428572, 'X[136] <= 0.5\\ngini = 0.382\\nsamples = 6105\\nvalue = [3, 4639, 1197, 266]'),\n",
              " Text(243.253125, 15.531428571428563, 'gini = 0.434\\nsamples = 22\\nvalue = [0, 7, 15, 0]'),\n",
              " Text(248.484375, 15.531428571428563, 'gini = 0.38\\nsamples = 6083\\nvalue = [3, 4632, 1182, 266]'),\n",
              " Text(292.95, 139.78285714285715, 'X[16] <= 0.5\\ngini = 0.331\\nsamples = 42249\\nvalue = [9, 33684, 7685, 871]'),\n",
              " Text(272.02500000000003, 108.72, 'X[15] <= 0.5\\ngini = 0.392\\nsamples = 6923\\nvalue = [2, 5192, 1441, 288]'),\n",
              " Text(261.5625, 77.65714285714284, 'X[9] <= 0.5\\ngini = 0.601\\nsamples = 64\\nvalue = [0, 27, 29, 8]'),\n",
              " Text(256.33125, 46.59428571428572, 'X[135] <= 0.5\\ngini = 0.564\\nsamples = 41\\nvalue = [0, 11, 24, 6]'),\n",
              " Text(253.71562500000002, 15.531428571428563, 'gini = 0.0\\nsamples = 6\\nvalue = [0, 0, 6, 0]'),\n",
              " Text(258.94687500000003, 15.531428571428563, 'gini = 0.607\\nsamples = 35\\nvalue = [0, 11, 18, 6]'),\n",
              " Text(266.79375, 46.59428571428572, 'X[22] <= 0.5\\ngini = 0.461\\nsamples = 23\\nvalue = [0, 16, 5, 2]'),\n",
              " Text(264.178125, 15.531428571428563, 'gini = 0.554\\nsamples = 17\\nvalue = [0, 10, 5, 2]'),\n",
              " Text(269.409375, 15.531428571428563, 'gini = 0.0\\nsamples = 6\\nvalue = [0, 6, 0, 0]'),\n",
              " Text(282.4875, 77.65714285714284, 'X[18] <= 0.5\\ngini = 0.389\\nsamples = 6859\\nvalue = [2, 5165, 1412, 280]'),\n",
              " Text(277.25625, 46.59428571428572, 'X[22] <= 0.5\\ngini = 0.387\\nsamples = 6820\\nvalue = [2, 5147, 1394, 277]'),\n",
              " Text(274.640625, 15.531428571428563, 'gini = 0.383\\nsamples = 6361\\nvalue = [2, 4824, 1276, 259]'),\n",
              " Text(279.871875, 15.531428571428563, 'gini = 0.437\\nsamples = 459\\nvalue = [0, 323, 118, 18]'),\n",
              " Text(287.71875, 46.59428571428572, 'X[4] <= 0.5\\ngini = 0.568\\nsamples = 39\\nvalue = [0, 18, 18, 3]'),\n",
              " Text(285.10312500000003, 15.531428571428563, 'gini = 0.573\\nsamples = 35\\nvalue = [0, 15, 17, 3]'),\n",
              " Text(290.334375, 15.531428571428563, 'gini = 0.375\\nsamples = 4\\nvalue = [0, 3, 1, 0]'),\n",
              " Text(313.875, 108.72, 'X[20] <= 0.5\\ngini = 0.318\\nsamples = 35326\\nvalue = [7, 28492, 6244, 583]'),\n",
              " Text(303.4125, 77.65714285714284, 'X[4] <= 0.5\\ngini = 0.334\\nsamples = 23630\\nvalue = [5, 18759, 4447, 419]'),\n",
              " Text(298.18125000000003, 46.59428571428572, 'X[3] <= 0.5\\ngini = 0.327\\nsamples = 21295\\nvalue = [5, 17031, 3900, 359]'),\n",
              " Text(295.565625, 15.531428571428563, 'gini = 0.326\\nsamples = 21290\\nvalue = [5, 17031, 3895, 359]'),\n",
              " Text(300.796875, 15.531428571428563, 'gini = 0.0\\nsamples = 5\\nvalue = [0, 0, 5, 0]'),\n",
              " Text(308.64375, 46.59428571428572, 'X[132] <= 0.5\\ngini = 0.397\\nsamples = 2335\\nvalue = [0, 1728, 547, 60]'),\n",
              " Text(306.028125, 15.531428571428563, 'gini = 0.41\\nsamples = 1802\\nvalue = [0, 1312, 437, 53]'),\n",
              " Text(311.25937500000003, 15.531428571428563, 'gini = 0.348\\nsamples = 533\\nvalue = [0, 416, 110, 7]'),\n",
              " Text(324.33750000000003, 77.65714285714284, 'X[4] <= 0.5\\ngini = 0.284\\nsamples = 11696\\nvalue = [2, 9733, 1797, 164]'),\n",
              " Text(319.10625, 46.59428571428572, 'X[0] <= 0.5\\ngini = 0.276\\nsamples = 10251\\nvalue = [1, 8585, 1535, 130]'),\n",
              " Text(316.490625, 15.531428571428563, 'gini = 0.0\\nsamples = 1\\nvalue = [0, 0, 1, 0]'),\n",
              " Text(321.721875, 15.531428571428563, 'gini = 0.276\\nsamples = 10250\\nvalue = [1, 8585, 1534, 130]'),\n",
              " Text(329.56875, 46.59428571428572, 'X[138] <= 0.5\\ngini = 0.335\\nsamples = 1445\\nvalue = [1, 1148, 262, 34]'),\n",
              " Text(326.953125, 15.531428571428563, 'gini = 0.348\\nsamples = 1103\\nvalue = [1, 862, 223, 17]'),\n",
              " Text(332.184375, 15.531428571428563, 'gini = 0.285\\nsamples = 342\\nvalue = [0, 286, 39, 17]')]"
            ]
          },
          "metadata": {
            "tags": []
          },
          "execution_count": 60
        },
        {
          "output_type": "display_data",
          "data": {
            "image/png": "[encoded data removed]",
            "text/plain": [
              "<Figure size 432x288 with 1 Axes>"
            ]
          },
          "metadata": {
            "tags": [],
            "needs_background": "light"
          }
        }
      ]
    },
    {
      "cell_type": "code",
      "metadata": {
        "id": "_m-E6g7XA7qq",
        "colab_type": "code",
        "outputId": "2f3b13ee-ebde-4be9-dfac-78fb74de47db",
        "colab": {
          "base_uri": "https://localhost:8080/",
          "height": 1000
        }
      },
      "source": [
        "clf8 = DecisionTreeClassifier(max_depth=8)\n",
        "clf8 = clf8.fit(X_TRAIN, Y_TRAIN)\n",
        "tree.plot_tree(clf8) "
      ],
      "execution_count": 61,
      "outputs": [
        {
          "output_type": "execute_result",
          "data": {
            "text/plain": [
              "[Text(177.95243553008595, 205.35999999999999, 'X[40] <= 0.5\\ngini = 0.42\\nsamples = 623776\\nvalue = [149, 448354, 156481, 18792]'),\n",
              " Text(95.60146848137536, 181.2, 'X[20] <= 0.5\\ngini = 0.441\\nsamples = 372630\\nvalue = [89, 258961, 101897, 11683]'),\n",
              " Text(51.20329512893983, 157.04, 'X[79] <= 0.5\\ngini = 0.456\\nsamples = 256659\\nvalue = [55, 173817, 74481, 8306]'),\n",
              " Text(30.09842406876791, 132.88, 'X[138] <= 0.5\\ngini = 0.449\\nsamples = 233866\\nvalue = [49, 160153, 66396, 7268]'),\n",
              " Text(15.348997134670487, 108.72, 'X[35] <= 0.5\\ngini = 0.442\\nsamples = 210098\\nvalue = [42, 145368, 59050, 5638]'),\n",
              " Text(7.6744985673352435, 84.56, 'X[95] <= 0.5\\ngini = 0.449\\nsamples = 161877\\nvalue = [34, 110613, 46823, 4407]'),\n",
              " Text(3.8372492836676217, 60.400000000000006, 'X[7] <= 0.5\\ngini = 0.455\\nsamples = 122113\\nvalue = [23, 82504, 36217, 3369]'),\n",
              " Text(1.9186246418338109, 36.24000000000001, 'X[42] <= 0.5\\ngini = 0.45\\nsamples = 109821\\nvalue = [21, 74787, 32223, 2790]'),\n",
              " Text(0.9593123209169054, 12.079999999999984, 'gini = 0.451\\nsamples = 107840\\nvalue = [21, 73264, 31811, 2744]'),\n",
              " Text(2.8779369627507165, 12.079999999999984, 'gini = 0.365\\nsamples = 1981\\nvalue = [0, 1523, 412, 46]'),\n",
              " Text(5.755873925501433, 36.24000000000001, 'X[89] <= 0.5\\ngini = 0.498\\nsamples = 12292\\nvalue = [2, 7717, 3994, 579]'),\n",
              " Text(4.796561604584527, 12.079999999999984, 'gini = 0.51\\nsamples = 10407\\nvalue = [2, 6370, 3498, 537]'),\n",
              " Text(6.715186246418338, 12.079999999999984, 'gini = 0.42\\nsamples = 1885\\nvalue = [0, 1347, 496, 42]'),\n",
              " Text(11.511747851002866, 60.400000000000006, 'X[12] <= 0.5\\ngini = 0.428\\nsamples = 39764\\nvalue = [11, 28109, 10606, 1038]'),\n",
              " Text(9.593123209169054, 36.24000000000001, 'X[16] <= 0.5\\ngini = 0.404\\nsamples = 16293\\nvalue = [5, 11927, 3986, 375]'),\n",
              " Text(8.63381088825215, 12.079999999999984, 'gini = 0.478\\nsamples = 2246\\nvalue = [0, 1463, 697, 86]'),\n",
              " Text(10.55243553008596, 12.079999999999984, 'gini = 0.39\\nsamples = 14047\\nvalue = [5, 10464, 3289, 289]'),\n",
              " Text(13.430372492836677, 36.24000000000001, 'X[9] <= 0.5\\ngini = 0.444\\nsamples = 23471\\nvalue = [6, 16182, 6620, 663]'),\n",
              " Text(12.47106017191977, 12.079999999999984, 'gini = 0.421\\nsamples = 3859\\nvalue = [1, 2771, 963, 124]'),\n",
              " Text(14.38968481375358, 12.079999999999984, 'gini = 0.448\\nsamples = 19612\\nvalue = [5, 13411, 5657, 539]'),\n",
              " Text(23.023495702005732, 84.56, 'X[5] <= 0.5\\ngini = 0.416\\nsamples = 48221\\nvalue = [8, 34755, 12227, 1231]'),\n",
              " Text(19.186246418338108, 60.400000000000006, 'X[14] <= 0.5\\ngini = 0.401\\nsamples = 23196\\nvalue = [4, 17061, 5563, 568]'),\n",
              " Text(17.2676217765043, 36.24000000000001, 'X[3] <= 0.5\\ngini = 0.4\\nsamples = 23136\\nvalue = [4, 17040, 5536, 556]'),\n",
              " Text(16.30830945558739, 12.079999999999984, 'gini = 0.403\\nsamples = 22212\\nvalue = [4, 16289, 5382, 537]'),\n",
              " Text(18.226934097421204, 12.079999999999984, 'gini = 0.311\\nsamples = 924\\nvalue = [0, 751, 154, 19]'),\n",
              " Text(21.10487106017192, 36.24000000000001, 'X[12] <= 0.5\\ngini = 0.635\\nsamples = 60\\nvalue = [0, 21, 27, 12]'),\n",
              " Text(20.145558739255016, 12.079999999999984, 'gini = 0.541\\nsamples = 32\\nvalue = [0, 19, 10, 3]'),\n",
              " Text(22.064183381088824, 12.079999999999984, 'gini = 0.523\\nsamples = 28\\nvalue = [0, 2, 17, 9]'),\n",
              " Text(26.860744985673353, 60.400000000000006, 'X[11] <= 0.5\\ngini = 0.428\\nsamples = 25025\\nvalue = [4, 17694, 6664, 663]'),\n",
              " Text(24.94212034383954, 36.24000000000001, 'X[136] <= 0.5\\ngini = 0.43\\nsamples = 24238\\nvalue = [4, 17085, 6503, 646]'),\n",
              " Text(23.982808022922637, 12.079999999999984, 'gini = 0.428\\nsamples = 23450\\nvalue = [4, 16579, 6252, 615]'),\n",
              " Text(25.901432664756445, 12.079999999999984, 'gini = 0.485\\nsamples = 788\\nvalue = [0, 506, 251, 31]'),\n",
              " Text(28.77936962750716, 36.24000000000001, 'X[16] <= 0.5\\ngini = 0.359\\nsamples = 787\\nvalue = [0, 609, 161, 17]'),\n",
              " Text(27.820057306590257, 12.079999999999984, 'gini = 0.427\\nsamples = 328\\nvalue = [0, 232, 88, 8]'),\n",
              " Text(29.73868194842407, 12.079999999999984, 'gini = 0.3\\nsamples = 459\\nvalue = [0, 377, 73, 9]'),\n",
              " Text(44.847851002865326, 108.72, 'X[11] <= 0.5\\ngini = 0.513\\nsamples = 23768\\nvalue = [7, 14785, 7346, 1630]'),\n",
              " Text(38.372492836676216, 84.56, 'X[8] <= 0.5\\ngini = 0.516\\nsamples = 23031\\nvalue = [7, 14207, 7224, 1593]'),\n",
              " Text(34.5352435530086, 60.400000000000006, 'X[35] <= 0.5\\ngini = 0.545\\nsamples = 9072\\nvalue = [4, 5235, 3082, 751]'),\n",
              " Text(32.61661891117478, 36.24000000000001, 'X[15] <= 0.5\\ngini = 0.559\\nsamples = 6238\\nvalue = [4, 3413, 2282, 539]'),\n",
              " Text(31.65730659025788, 12.079999999999984, 'gini = 0.562\\nsamples = 5823\\nvalue = [4, 3137, 2181, 501]'),\n",
              " Text(33.57593123209169, 12.079999999999984, 'gini = 0.49\\nsamples = 415\\nvalue = [0, 276, 101, 38]'),\n",
              " Text(36.45386819484241, 36.24000000000001, 'X[3] <= 0.5\\ngini = 0.501\\nsamples = 2834\\nvalue = [0, 1822, 800, 212]'),\n",
              " Text(35.4945558739255, 12.079999999999984, 'gini = 0.512\\nsamples = 2536\\nvalue = [0, 1596, 742, 198]'),\n",
              " Text(37.413180515759315, 12.079999999999984, 'gini = 0.385\\nsamples = 298\\nvalue = [0, 226, 58, 14]'),\n",
              " Text(42.20974212034384, 60.400000000000006, 'X[15] <= 0.5\\ngini = 0.495\\nsamples = 13959\\nvalue = [3, 8972, 4142, 842]'),\n",
              " Text(40.29111747851003, 36.24000000000001, 'X[72] <= 0.5\\ngini = 0.498\\nsamples = 13114\\nvalue = [3, 8360, 3970, 781]'),\n",
              " Text(39.331805157593124, 12.079999999999984, 'gini = 0.489\\nsamples = 9261\\nvalue = [2, 6017, 2707, 535]'),\n",
              " Text(41.25042979942693, 12.079999999999984, 'gini = 0.519\\nsamples = 3853\\nvalue = [1, 2343, 1263, 246]'),\n",
              " Text(44.12836676217765, 36.24000000000001, 'X[18] <= 0.5\\ngini = 0.429\\nsamples = 845\\nvalue = [0, 612, 172, 61]'),\n",
              " Text(43.16905444126075, 12.079999999999984, 'gini = 0.426\\nsamples = 842\\nvalue = [0, 612, 169, 61]'),\n",
              " Text(45.08767908309456, 12.079999999999984, 'gini = 0.0\\nsamples = 3\\nvalue = [0, 0, 3, 0]'),\n",
              " Text(51.323209169054444, 84.56, 'X[132] <= 0.5\\ngini = 0.355\\nsamples = 737\\nvalue = [0, 578, 122, 37]'),\n",
              " Text(48.924928366762174, 60.400000000000006, 'X[89] <= 0.5\\ngini = 0.568\\nsamples = 9\\nvalue = [0, 3, 1, 5]'),\n",
              " Text(47.96561604584527, 36.24000000000001, 'X[35] <= 0.5\\ngini = 0.375\\nsamples = 4\\nvalue = [0, 3, 1, 0]'),\n",
              " Text(47.006303724928365, 12.079999999999984, 'gini = 0.0\\nsamples = 3\\nvalue = [0, 3, 0, 0]'),\n",
              " Text(48.924928366762174, 12.079999999999984, 'gini = 0.0\\nsamples = 1\\nvalue = [0, 0, 1, 0]'),\n",
              " Text(49.88424068767908, 36.24000000000001, 'gini = 0.0\\nsamples = 5\\nvalue = [0, 0, 0, 5]'),\n",
              " Text(53.721489971346706, 60.400000000000006, 'X[16] <= 0.5\\ngini = 0.347\\nsamples = 728\\nvalue = [0, 575, 121, 32]'),\n",
              " Text(51.80286532951289, 36.24000000000001, 'X[4] <= 0.5\\ngini = 0.412\\nsamples = 236\\nvalue = [0, 175, 42, 19]'),\n",
              " Text(50.84355300859599, 12.079999999999984, 'gini = 0.332\\nsamples = 148\\nvalue = [0, 119, 19, 10]'),\n",
              " Text(52.7621776504298, 12.079999999999984, 'gini = 0.516\\nsamples = 88\\nvalue = [0, 56, 23, 9]'),\n",
              " Text(55.640114613180515, 36.24000000000001, 'X[4] <= 0.5\\ngini = 0.313\\nsamples = 492\\nvalue = [0, 400, 79, 13]'),\n",
              " Text(54.68080229226361, 12.079999999999984, 'gini = 0.363\\nsamples = 306\\nvalue = [0, 237, 58, 11]'),\n",
              " Text(56.59942693409742, 12.079999999999984, 'gini = 0.219\\nsamples = 186\\nvalue = [0, 163, 21, 2]'),\n",
              " Text(72.30816618911174, 132.88, 'X[137] <= 0.5\\ngini = 0.513\\nsamples = 22793\\nvalue = [6, 13664, 8085, 1038]'),\n",
              " Text(63.79426934097421, 108.72, 'X[15] <= 0.5\\ngini = 0.561\\nsamples = 4084\\nvalue = [0, 2051, 1738, 295]'),\n",
              " Text(60.43667621776504, 84.56, 'X[16] <= 0.5\\ngini = 0.563\\nsamples = 3959\\nvalue = [0, 1958, 1714, 287]'),\n",
              " Text(58.51805157593123, 60.400000000000006, 'X[4] <= 0.5\\ngini = 0.611\\nsamples = 18\\nvalue = [0, 3, 6, 9]'),\n",
              " Text(57.55873925501432, 36.24000000000001, 'gini = 0.539\\nsamples = 16\\nvalue = [0, 1, 6, 9]'),\n",
              " Text(59.47736389684814, 36.24000000000001, 'gini = 0.0\\nsamples = 2\\nvalue = [0, 2, 0, 0]'),\n",
              " Text(62.355300859598856, 60.400000000000006, 'X[1] <= 0.5\\ngini = 0.561\\nsamples = 3941\\nvalue = [0, 1955, 1708, 278]'),\n",
              " Text(61.39598853868195, 36.24000000000001, 'X[21] <= 0.5\\ngini = 0.561\\nsamples = 3935\\nvalue = [0, 1955, 1702, 278]'),\n",
              " Text(60.43667621776504, 12.079999999999984, 'gini = 0.569\\nsamples = 873\\nvalue = [0, 411, 393, 69]'),\n",
              " Text(62.355300859598856, 12.079999999999984, 'gini = 0.558\\nsamples = 3062\\nvalue = [0, 1544, 1309, 209]'),\n",
              " Text(63.31461318051576, 36.24000000000001, 'gini = 0.0\\nsamples = 6\\nvalue = [0, 0, 6, 0]'),\n",
              " Text(67.15186246418338, 84.56, 'X[22] <= 0.5\\ngini = 0.406\\nsamples = 125\\nvalue = [0, 93, 24, 8]'),\n",
              " Text(66.19255014326647, 60.400000000000006, 'X[7] <= 0.5\\ngini = 0.378\\nsamples = 112\\nvalue = [0, 86, 19, 7]'),\n",
              " Text(65.23323782234957, 36.24000000000001, 'gini = 0.549\\nsamples = 18\\nvalue = [0, 11, 4, 3]'),\n",
              " Text(67.15186246418338, 36.24000000000001, 'X[4] <= 0.5\\ngini = 0.336\\nsamples = 94\\nvalue = [0, 75, 15, 4]'),\n",
              " Text(66.19255014326647, 12.079999999999984, 'gini = 0.525\\nsamples = 22\\nvalue = [0, 14, 5, 3]'),\n",
              " Text(68.11117478510029, 12.079999999999984, 'gini = 0.263\\nsamples = 72\\nvalue = [0, 61, 10, 1]'),\n",
              " Text(68.11117478510029, 60.400000000000006, 'gini = 0.556\\nsamples = 13\\nvalue = [0, 7, 5, 1]'),\n",
              " Text(80.82206303724928, 108.72, 'X[1] <= 0.5\\ngini = 0.498\\nsamples = 18709\\nvalue = [6, 11613, 6347, 743]'),\n",
              " Text(76.26532951289398, 84.56, 'X[14] <= 0.5\\ngini = 0.497\\nsamples = 18682\\nvalue = [6, 11611, 6338, 727]'),\n",
              " Text(72.90773638968481, 60.400000000000006, 'X[136] <= 0.5\\ngini = 0.496\\nsamples = 18640\\nvalue = [6, 11600, 6323, 711]'),\n",
              " Text(70.989111747851, 36.24000000000001, 'X[4] <= 0.5\\ngini = 0.495\\nsamples = 17372\\nvalue = [6, 10862, 5841, 663]'),\n",
              " Text(70.02979942693409, 12.079999999999984, 'gini = 0.501\\nsamples = 7971\\nvalue = [2, 4886, 2779, 304]'),\n",
              " Text(71.9484240687679, 12.079999999999984, 'gini = 0.488\\nsamples = 9401\\nvalue = [4, 5976, 3062, 359]'),\n",
              " Text(74.82636103151863, 36.24000000000001, 'X[7] <= 0.5\\ngini = 0.515\\nsamples = 1268\\nvalue = [0, 738, 482, 48]'),\n",
              " Text(73.86704871060172, 12.079999999999984, 'gini = 0.493\\nsamples = 100\\nvalue = [0, 63, 33, 4]'),\n",
              " Text(75.78567335243552, 12.079999999999984, 'gini = 0.517\\nsamples = 1168\\nvalue = [0, 675, 449, 44]'),\n",
              " Text(79.62292263610316, 60.400000000000006, 'X[8] <= 0.5\\ngini = 0.659\\nsamples = 42\\nvalue = [0, 11, 15, 16]'),\n",
              " Text(78.66361031518625, 36.24000000000001, 'X[4] <= 0.5\\ngini = 0.65\\nsamples = 38\\nvalue = [0, 9, 13, 16]'),\n",
              " Text(77.70429799426934, 12.079999999999984, 'gini = 0.666\\nsamples = 26\\nvalue = [0, 9, 8, 9]'),\n",
              " Text(79.62292263610316, 12.079999999999984, 'gini = 0.486\\nsamples = 12\\nvalue = [0, 0, 5, 7]'),\n",
              " Text(80.58223495702006, 36.24000000000001, 'gini = 0.5\\nsamples = 4\\nvalue = [0, 2, 2, 0]'),\n",
              " Text(85.37879656160459, 84.56, 'X[8] <= 0.5\\ngini = 0.532\\nsamples = 27\\nvalue = [0, 2, 9, 16]'),\n",
              " Text(84.41948424068768, 60.400000000000006, 'X[131] <= 0.5\\ngini = 0.486\\nsamples = 24\\nvalue = [0, 2, 6, 16]'),\n",
              " Text(82.50085959885386, 36.24000000000001, 'X[133] <= 0.5\\ngini = 0.625\\nsamples = 4\\nvalue = [0, 1, 2, 1]'),\n",
              " Text(81.54154727793696, 12.079999999999984, 'gini = 0.444\\nsamples = 3\\nvalue = [0, 0, 2, 1]'),\n",
              " Text(83.46017191977077, 12.079999999999984, 'gini = 0.0\\nsamples = 1\\nvalue = [0, 1, 0, 0]'),\n",
              " Text(86.3381088825215, 36.24000000000001, 'X[16] <= 0.5\\ngini = 0.395\\nsamples = 20\\nvalue = [0, 1, 4, 15]'),\n",
              " Text(85.37879656160459, 12.079999999999984, 'gini = 0.5\\nsamples = 4\\nvalue = [0, 0, 2, 2]'),\n",
              " Text(87.29742120343839, 12.079999999999984, 'gini = 0.32\\nsamples = 16\\nvalue = [0, 1, 2, 13]'),\n",
              " Text(86.3381088825215, 60.400000000000006, 'gini = 0.0\\nsamples = 3\\nvalue = [0, 0, 3, 0]'),\n",
              " Text(139.9996418338109, 157.04, 'X[42] <= 0.5\\ngini = 0.404\\nsamples = 115971\\nvalue = [34, 85144, 27416, 3377]'),\n",
              " Text(118.11532951289398, 132.88, 'X[79] <= 0.5\\ngini = 0.408\\nsamples = 110145\\nvalue = [34, 80407, 26491, 3213]'),\n",
              " Text(103.60573065902578, 108.72, 'X[137] <= 0.5\\ngini = 0.405\\nsamples = 106290\\nvalue = [34, 77932, 25305, 3019]'),\n",
              " Text(95.93123209169055, 84.56, 'X[8] <= 0.5\\ngini = 0.449\\nsamples = 16659\\nvalue = [1, 11647, 4059, 952]'),\n",
              " Text(92.09398280802293, 60.400000000000006, 'X[13] <= 0.5\\ngini = 0.493\\nsamples = 6166\\nvalue = [0, 4036, 1666, 464]'),\n",
              " Text(90.17535816618911, 36.24000000000001, 'X[16] <= 0.5\\ngini = 0.42\\nsamples = 1374\\nvalue = [0, 997, 310, 67]'),\n",
              " Text(89.2160458452722, 12.079999999999984, 'gini = 0.573\\nsamples = 158\\nvalue = [0, 90, 45, 23]'),\n",
              " Text(91.13467048710602, 12.079999999999984, 'gini = 0.395\\nsamples = 1216\\nvalue = [0, 907, 265, 44]'),\n",
              " Text(94.01260744985673, 36.24000000000001, 'X[47] <= 0.5\\ngini = 0.511\\nsamples = 4792\\nvalue = [0, 3039, 1356, 397]'),\n",
              " Text(93.05329512893982, 12.079999999999984, 'gini = 0.516\\nsamples = 4605\\nvalue = [0, 2893, 1317, 395]'),\n",
              " Text(94.97191977077364, 12.079999999999984, 'gini = 0.347\\nsamples = 187\\nvalue = [0, 146, 39, 2]'),\n",
              " Text(99.76848137535816, 60.400000000000006, 'X[72] <= 0.5\\ngini = 0.42\\nsamples = 10493\\nvalue = [1, 7611, 2393, 488]'),\n",
              " Text(97.84985673352435, 36.24000000000001, 'X[92] <= 0.5\\ngini = 0.41\\nsamples = 9067\\nvalue = [1, 6657, 1996, 413]'),\n",
              " Text(96.89054441260745, 12.079999999999984, 'gini = 0.404\\nsamples = 8715\\nvalue = [1, 6445, 1884, 385]'),\n",
              " Text(98.80916905444126, 12.079999999999984, 'gini = 0.53\\nsamples = 352\\nvalue = [0, 212, 112, 28]'),\n",
              " Text(101.68710601719198, 36.24000000000001, 'X[15] <= 0.5\\ngini = 0.472\\nsamples = 1426\\nvalue = [0, 954, 397, 75]'),\n",
              " Text(100.72779369627507, 12.079999999999984, 'gini = 0.478\\nsamples = 1375\\nvalue = [0, 911, 389, 75]'),\n",
              " Text(102.64641833810889, 12.079999999999984, 'gini = 0.265\\nsamples = 51\\nvalue = [0, 43, 8, 0]'),\n",
              " Text(111.28022922636103, 84.56, 'X[8] <= 0.5\\ngini = 0.396\\nsamples = 89631\\nvalue = [33, 66285, 21246, 2067]'),\n",
              " Text(107.44297994269341, 60.400000000000006, 'X[16] <= 0.5\\ngini = 0.406\\nsamples = 53623\\nvalue = [12, 39134, 13218, 1259]'),\n",
              " Text(105.5243553008596, 36.24000000000001, 'X[14] <= 0.5\\ngini = 0.471\\nsamples = 2598\\nvalue = [1, 1716, 784, 97]'),\n",
              " Text(104.56504297994269, 12.079999999999984, 'gini = 0.465\\nsamples = 2564\\nvalue = [1, 1708, 770, 85]'),\n",
              " Text(106.4836676217765, 12.079999999999984, 'gini = 0.651\\nsamples = 34\\nvalue = [0, 8, 14, 12]'),\n",
              " Text(109.36160458452721, 36.24000000000001, 'X[11] <= 0.5\\ngini = 0.402\\nsamples = 51025\\nvalue = [11, 37418, 12434, 1162]'),\n",
              " Text(108.40229226361032, 12.079999999999984, 'gini = 0.408\\nsamples = 47995\\nvalue = [10, 34947, 11908, 1130]'),\n",
              " Text(110.32091690544412, 12.079999999999984, 'gini = 0.305\\nsamples = 3030\\nvalue = [1, 2471, 526, 32]'),\n",
              " Text(115.11747851002865, 60.400000000000006, 'X[95] <= 0.5\\ngini = 0.381\\nsamples = 36008\\nvalue = [21, 27151, 8028, 808]'),\n",
              " Text(113.19885386819485, 36.24000000000001, 'X[35] <= 0.5\\ngini = 0.388\\nsamples = 30826\\nvalue = [18, 23052, 7028, 728]'),\n",
              " Text(112.23954154727794, 12.079999999999984, 'gini = 0.404\\nsamples = 17705\\nvalue = [10, 12953, 4339, 403]'),\n",
              " Text(114.15816618911175, 12.079999999999984, 'gini = 0.365\\nsamples = 13121\\nvalue = [8, 10099, 2689, 325]'),\n",
              " Text(117.03610315186246, 36.24000000000001, 'X[11] <= 0.5\\ngini = 0.337\\nsamples = 5182\\nvalue = [3, 4099, 1000, 80]'),\n",
              " Text(116.07679083094555, 12.079999999999984, 'gini = 0.332\\nsamples = 4937\\nvalue = [3, 3925, 933, 76]'),\n",
              " Text(117.99541547277937, 12.079999999999984, 'gini = 0.421\\nsamples = 245\\nvalue = [0, 174, 67, 4]'),\n",
              " Text(132.62492836676216, 108.72, 'X[137] <= 0.5\\ngini = 0.491\\nsamples = 3855\\nvalue = [0, 2475, 1186, 194]'),\n",
              " Text(126.62922636103151, 84.56, 'X[7] <= 0.5\\ngini = 0.564\\nsamples = 809\\nvalue = [0, 452, 272, 85]'),\n",
              " Text(122.7919770773639, 60.400000000000006, 'X[15] <= 0.5\\ngini = 0.544\\nsamples = 384\\nvalue = [0, 233, 103, 48]'),\n",
              " Text(120.87335243553008, 36.24000000000001, 'X[14] <= 0.5\\ngini = 0.569\\nsamples = 335\\nvalue = [0, 193, 94, 48]'),\n",
              " Text(119.91404011461319, 12.079999999999984, 'gini = 0.566\\nsamples = 333\\nvalue = [0, 193, 93, 47]'),\n",
              " Text(121.83266475644699, 12.079999999999984, 'gini = 0.5\\nsamples = 2\\nvalue = [0, 0, 1, 1]'),\n",
              " Text(124.71060171919771, 36.24000000000001, 'X[13] <= 0.5\\ngini = 0.3\\nsamples = 49\\nvalue = [0, 40, 9, 0]'),\n",
              " Text(123.7512893982808, 12.079999999999984, 'gini = 0.0\\nsamples = 1\\nvalue = [0, 1, 0, 0]'),\n",
              " Text(125.6699140401146, 12.079999999999984, 'gini = 0.305\\nsamples = 48\\nvalue = [0, 39, 9, 0]'),\n",
              " Text(130.46647564469913, 60.400000000000006, 'X[3] <= 0.5\\ngini = 0.569\\nsamples = 425\\nvalue = [0, 219, 169, 37]'),\n",
              " Text(128.54785100286531, 36.24000000000001, 'X[15] <= 0.5\\ngini = 0.598\\nsamples = 122\\nvalue = [0, 62, 43, 17]'),\n",
              " Text(127.58853868194842, 12.079999999999984, 'gini = 0.61\\nsamples = 111\\nvalue = [0, 54, 40, 17]'),\n",
              " Text(129.50716332378224, 12.079999999999984, 'gini = 0.397\\nsamples = 11\\nvalue = [0, 8, 3, 0]'),\n",
              " Text(132.38510028653295, 36.24000000000001, 'X[13] <= 0.5\\ngini = 0.554\\nsamples = 303\\nvalue = [0, 157, 126, 20]'),\n",
              " Text(131.42578796561605, 12.079999999999984, 'gini = 0.0\\nsamples = 4\\nvalue = [0, 4, 0, 0]'),\n",
              " Text(133.34441260744987, 12.079999999999984, 'gini = 0.556\\nsamples = 299\\nvalue = [0, 153, 126, 20]'),\n",
              " Text(138.62063037249283, 84.56, 'X[15] <= 0.5\\ngini = 0.468\\nsamples = 3046\\nvalue = [0, 2023, 914, 109]'),\n",
              " Text(135.26303724928366, 60.400000000000006, 'X[0] <= 0.5\\ngini = 0.473\\nsamples = 2703\\nvalue = [0, 1769, 842, 92]'),\n",
              " Text(134.30372492836676, 36.24000000000001, 'gini = 0.0\\nsamples = 3\\nvalue = [0, 0, 0, 3]'),\n",
              " Text(136.22234957020058, 36.24000000000001, 'X[8] <= 0.5\\ngini = 0.472\\nsamples = 2700\\nvalue = [0, 1769, 842, 89]'),\n",
              " Text(135.26303724928366, 12.079999999999984, 'gini = 0.491\\nsamples = 1444\\nvalue = [0, 907, 486, 51]'),\n",
              " Text(137.18166189111747, 12.079999999999984, 'gini = 0.448\\nsamples = 1256\\nvalue = [0, 862, 356, 38]'),\n",
              " Text(141.978223495702, 60.400000000000006, 'X[132] <= 0.5\\ngini = 0.405\\nsamples = 343\\nvalue = [0, 254, 72, 17]'),\n",
              " Text(140.05959885386818, 36.24000000000001, 'X[3] <= 0.5\\ngini = 0.441\\nsamples = 268\\nvalue = [0, 189, 65, 14]'),\n",
              " Text(139.1002865329513, 12.079999999999984, 'gini = 0.407\\nsamples = 201\\nvalue = [0, 147, 48, 6]'),\n",
              " Text(141.0189111747851, 12.079999999999984, 'gini = 0.528\\nsamples = 67\\nvalue = [0, 42, 17, 8]'),\n",
              " Text(143.8968481375358, 36.24000000000001, 'X[4] <= 0.5\\ngini = 0.239\\nsamples = 75\\nvalue = [0, 65, 7, 3]'),\n",
              " Text(142.93753581661892, 12.079999999999984, 'gini = 0.323\\nsamples = 31\\nvalue = [0, 25, 5, 1]'),\n",
              " Text(144.85616045845273, 12.079999999999984, 'gini = 0.169\\nsamples = 44\\nvalue = [0, 40, 2, 2]'),\n",
              " Text(161.8839541547278, 132.88, 'X[138] <= 0.5\\ngini = 0.313\\nsamples = 5826\\nvalue = [0, 4737, 925, 164]'),\n",
              " Text(156.84756446991403, 108.72, 'X[14] <= 0.5\\ngini = 0.304\\nsamples = 4784\\nvalue = [0, 3918, 758, 108]'),\n",
              " Text(153.48997134670486, 84.56, 'X[8] <= 0.5\\ngini = 0.303\\nsamples = 4778\\nvalue = [0, 3914, 758, 106]'),\n",
              " Text(149.65272206303726, 60.400000000000006, 'X[134] <= 0.5\\ngini = 0.322\\nsamples = 1645\\nvalue = [0, 1327, 266, 52]'),\n",
              " Text(147.73409742120344, 36.24000000000001, 'X[15] <= 0.5\\ngini = 0.307\\nsamples = 1401\\nvalue = [0, 1145, 217, 39]'),\n",
              " Text(146.77478510028652, 12.079999999999984, 'gini = 0.302\\nsamples = 1360\\nvalue = [0, 1117, 207, 36]'),\n",
              " Text(148.69340974212034, 12.079999999999984, 'gini = 0.469\\nsamples = 41\\nvalue = [0, 28, 10, 3]'),\n",
              " Text(151.57134670487105, 36.24000000000001, 'X[4] <= 0.5\\ngini = 0.4\\nsamples = 244\\nvalue = [0, 182, 49, 13]'),\n",
              " Text(150.61203438395415, 12.079999999999984, 'gini = 0.394\\nsamples = 242\\nvalue = [0, 182, 47, 13]'),\n",
              " Text(152.53065902578797, 12.079999999999984, 'gini = 0.0\\nsamples = 2\\nvalue = [0, 0, 2, 0]'),\n",
              " Text(157.3272206303725, 60.400000000000006, 'X[16] <= 0.5\\ngini = 0.293\\nsamples = 3133\\nvalue = [0, 2587, 492, 54]'),\n",
              " Text(155.40859598853868, 36.24000000000001, 'X[134] <= 0.5\\ngini = 0.226\\nsamples = 210\\nvalue = [0, 183, 25, 2]'),\n",
              " Text(154.44928366762178, 12.079999999999984, 'gini = 0.223\\nsamples = 182\\nvalue = [0, 159, 21, 2]'),\n",
              " Text(156.36790830945557, 12.079999999999984, 'gini = 0.245\\nsamples = 28\\nvalue = [0, 24, 4, 0]'),\n",
              " Text(159.2458452722063, 36.24000000000001, 'X[13] <= 0.5\\ngini = 0.298\\nsamples = 2923\\nvalue = [0, 2404, 467, 52]'),\n",
              " Text(158.2865329512894, 12.079999999999984, 'gini = 0.5\\nsamples = 2\\nvalue = [0, 1, 1, 0]'),\n",
              " Text(160.2051575931232, 12.079999999999984, 'gini = 0.297\\nsamples = 2921\\nvalue = [0, 2403, 466, 52]'),\n",
              " Text(160.2051575931232, 84.56, 'X[4] <= 0.5\\ngini = 0.444\\nsamples = 6\\nvalue = [0, 4, 0, 2]'),\n",
              " Text(159.2458452722063, 60.400000000000006, 'gini = 0.0\\nsamples = 2\\nvalue = [0, 2, 0, 0]'),\n",
              " Text(161.16446991404013, 60.400000000000006, 'gini = 0.5\\nsamples = 4\\nvalue = [0, 2, 0, 2]'),\n",
              " Text(166.92034383954154, 108.72, 'X[16] <= 0.5\\ngini = 0.354\\nsamples = 1042\\nvalue = [0, 819, 167, 56]'),\n",
              " Text(165.00171919770773, 84.56, 'X[5] <= 0.5\\ngini = 0.158\\nsamples = 58\\nvalue = [0, 53, 5, 0]'),\n",
              " Text(164.04240687679084, 60.400000000000006, 'X[3] <= 0.5\\ngini = 0.131\\nsamples = 57\\nvalue = [0, 53, 4, 0]'),\n",
              " Text(163.0830945558739, 36.24000000000001, 'X[7] <= 0.5\\ngini = 0.081\\nsamples = 47\\nvalue = [0, 45, 2, 0]'),\n",
              " Text(162.12378223495702, 12.079999999999984, 'gini = 0.083\\nsamples = 46\\nvalue = [0, 44, 2, 0]'),\n",
              " Text(164.04240687679084, 12.079999999999984, 'gini = 0.0\\nsamples = 1\\nvalue = [0, 1, 0, 0]'),\n",
              " Text(165.00171919770773, 36.24000000000001, 'gini = 0.32\\nsamples = 10\\nvalue = [0, 8, 2, 0]'),\n",
              " Text(165.96103151862465, 60.400000000000006, 'gini = 0.0\\nsamples = 1\\nvalue = [0, 0, 1, 0]'),\n",
              " Text(168.83896848137536, 84.56, 'X[5] <= 0.5\\ngini = 0.364\\nsamples = 984\\nvalue = [0, 766, 162, 56]'),\n",
              " Text(167.87965616045844, 60.400000000000006, 'X[8] <= 0.5\\ngini = 0.352\\nsamples = 825\\nvalue = [0, 650, 129, 46]'),\n",
              " Text(166.92034383954154, 36.24000000000001, 'X[4] <= 0.5\\ngini = 0.32\\nsamples = 15\\nvalue = [0, 12, 3, 0]'),\n",
              " Text(165.96103151862465, 12.079999999999984, 'gini = 0.298\\nsamples = 11\\nvalue = [0, 9, 2, 0]'),\n",
              " Text(167.87965616045844, 12.079999999999984, 'gini = 0.375\\nsamples = 4\\nvalue = [0, 3, 1, 0]'),\n",
              " Text(168.83896848137536, 36.24000000000001, 'gini = 0.352\\nsamples = 810\\nvalue = [0, 638, 126, 46]'),\n",
              " Text(169.79828080229225, 60.400000000000006, 'gini = 0.421\\nsamples = 159\\nvalue = [0, 116, 33, 10]'),\n",
              " Text(260.3034025787966, 181.2, 'X[11] <= 0.5\\ngini = 0.383\\nsamples = 251146\\nvalue = [60, 189393, 54584, 7109]'),\n",
              " Text(217.4041547277937, 157.04, 'X[20] <= 0.5\\ngini = 0.393\\nsamples = 208897\\nvalue = [51, 155709, 46899, 6238]'),\n",
              " Text(193.9010028653295, 132.88, 'X[138] <= 0.5\\ngini = 0.41\\nsamples = 110069\\nvalue = [27, 80169, 26624, 3249]'),\n",
              " Text(181.0702005730659, 108.72, 'X[13] <= 0.5\\ngini = 0.404\\nsamples = 101003\\nvalue = [24, 74075, 24294, 2610]'),\n",
              " Text(174.11518624641835, 84.56, 'X[0] <= 0.5\\ngini = 0.414\\nsamples = 72928\\nvalue = [19, 52762, 18201, 1946]'),\n",
              " Text(171.71690544412607, 60.400000000000006, 'X[3] <= 0.5\\ngini = 0.567\\nsamples = 17\\nvalue = [0, 4, 10, 3]'),\n",
              " Text(170.75759312320918, 36.24000000000001, 'X[5] <= 0.5\\ngini = 0.539\\nsamples = 16\\nvalue = [0, 3, 10, 3]'),\n",
              " Text(169.79828080229225, 12.079999999999984, 'gini = 0.0\\nsamples = 1\\nvalue = [0, 0, 1, 0]'),\n",
              " Text(171.71690544412607, 12.079999999999984, 'gini = 0.56\\nsamples = 15\\nvalue = [0, 3, 9, 3]'),\n",
              " Text(172.676217765043, 36.24000000000001, 'gini = 0.0\\nsamples = 1\\nvalue = [0, 1, 0, 0]'),\n",
              " Text(176.5134670487106, 60.400000000000006, 'X[14] <= 0.5\\ngini = 0.413\\nsamples = 72911\\nvalue = [19, 52758, 18191, 1943]'),\n",
              " Text(174.59484240687678, 36.24000000000001, 'X[15] <= 0.5\\ngini = 0.413\\nsamples = 72870\\nvalue = [19, 52740, 18177, 1934]'),\n",
              " Text(173.63553008595989, 12.079999999999984, 'gini = 0.414\\nsamples = 70077\\nvalue = [19, 50659, 17571, 1828]'),\n",
              " Text(175.5541547277937, 12.079999999999984, 'gini = 0.396\\nsamples = 2793\\nvalue = [0, 2081, 606, 106]'),\n",
              " Text(178.4320916905444, 36.24000000000001, 'X[5] <= 0.5\\ngini = 0.642\\nsamples = 41\\nvalue = [0, 18, 14, 9]'),\n",
              " Text(177.47277936962752, 12.079999999999984, 'gini = 0.651\\nsamples = 34\\nvalue = [0, 12, 14, 8]'),\n",
              " Text(179.3914040114613, 12.079999999999984, 'gini = 0.245\\nsamples = 7\\nvalue = [0, 6, 0, 1]'),\n",
              " Text(188.02521489971346, 84.56, 'X[5] <= 0.5\\ngini = 0.376\\nsamples = 28075\\nvalue = [5, 21313, 6093, 664]'),\n",
              " Text(184.18796561604586, 60.400000000000006, 'X[133] <= 0.5\\ngini = 0.347\\nsamples = 8845\\nvalue = [1, 6939, 1706, 199]'),\n",
              " Text(182.26934097421204, 36.24000000000001, 'X[0] <= 0.5\\ngini = 0.389\\nsamples = 1737\\nvalue = [0, 1296, 404, 37]'),\n",
              " Text(181.31002865329512, 12.079999999999984, 'gini = 0.444\\nsamples = 3\\nvalue = [0, 1, 0, 2]'),\n",
              " Text(183.22865329512894, 12.079999999999984, 'gini = 0.388\\nsamples = 1734\\nvalue = [0, 1295, 404, 35]'),\n",
              " Text(186.10659025787965, 36.24000000000001, 'X[0] <= 0.5\\ngini = 0.336\\nsamples = 7108\\nvalue = [1, 5643, 1302, 162]'),\n",
              " Text(185.14727793696275, 12.079999999999984, 'gini = 0.444\\nsamples = 3\\nvalue = [0, 0, 1, 2]'),\n",
              " Text(187.06590257879657, 12.079999999999984, 'gini = 0.335\\nsamples = 7105\\nvalue = [1, 5643, 1301, 160]'),\n",
              " Text(191.8624641833811, 60.400000000000006, 'X[131] <= 0.5\\ngini = 0.389\\nsamples = 19230\\nvalue = [4, 14374, 4387, 465]'),\n",
              " Text(189.94383954154728, 36.24000000000001, 'X[136] <= 0.5\\ngini = 0.435\\nsamples = 3098\\nvalue = [0, 2184, 803, 111]'),\n",
              " Text(188.98452722063038, 12.079999999999984, 'gini = 0.423\\nsamples = 2162\\nvalue = [0, 1551, 536, 75]'),\n",
              " Text(190.90315186246417, 12.079999999999984, 'gini = 0.46\\nsamples = 936\\nvalue = [0, 633, 267, 36]'),\n",
              " Text(193.7810888252149, 36.24000000000001, 'X[1] <= 0.5\\ngini = 0.379\\nsamples = 16132\\nvalue = [4, 12190, 3584, 354]'),\n",
              " Text(192.821776504298, 12.079999999999984, 'gini = 0.379\\nsamples = 16128\\nvalue = [4, 12190, 3580, 354]'),\n",
              " Text(194.7404011461318, 12.079999999999984, 'gini = 0.0\\nsamples = 4\\nvalue = [0, 0, 4, 0]'),\n",
              " Text(206.73180515759313, 108.72, 'X[8] <= 0.5\\ngini = 0.477\\nsamples = 9066\\nvalue = [3, 6094, 2330, 639]'),\n",
              " Text(200.97593123209168, 84.56, 'X[132] <= 0.5\\ngini = 0.508\\nsamples = 5193\\nvalue = [3, 3323, 1429, 438]'),\n",
              " Text(198.57765042979943, 60.400000000000006, 'X[13] <= 0.5\\ngini = 0.507\\nsamples = 69\\nvalue = [0, 24, 42, 3]'),\n",
              " Text(197.6183381088825, 36.24000000000001, 'X[22] <= 0.5\\ngini = 0.507\\nsamples = 62\\nvalue = [0, 21, 38, 3]'),\n",
              " Text(196.65902578796562, 12.079999999999984, 'gini = 0.506\\nsamples = 60\\nvalue = [0, 20, 37, 3]'),\n",
              " Text(198.57765042979943, 12.079999999999984, 'gini = 0.5\\nsamples = 2\\nvalue = [0, 1, 1, 0]'),\n",
              " Text(199.53696275071633, 36.24000000000001, 'gini = 0.49\\nsamples = 7\\nvalue = [0, 3, 4, 0]'),\n",
              " Text(203.37421203438396, 60.400000000000006, 'X[12] <= 0.5\\ngini = 0.505\\nsamples = 5124\\nvalue = [3, 3299, 1387, 435]'),\n",
              " Text(201.45558739255014, 36.24000000000001, 'X[7] <= 0.5\\ngini = 0.525\\nsamples = 3096\\nvalue = [2, 1927, 861, 306]'),\n",
              " Text(200.49627507163325, 12.079999999999984, 'gini = 0.538\\nsamples = 2566\\nvalue = [1, 1558, 735, 272]'),\n",
              " Text(202.41489971346704, 12.079999999999984, 'gini = 0.455\\nsamples = 530\\nvalue = [1, 369, 126, 34]'),\n",
              " Text(205.29283667621777, 36.24000000000001, 'X[14] <= 0.5\\ngini = 0.471\\nsamples = 2028\\nvalue = [1, 1372, 526, 129]'),\n",
              " Text(204.33352435530085, 12.079999999999984, 'gini = 0.47\\nsamples = 2026\\nvalue = [1, 1372, 525, 128]'),\n",
              " Text(206.25214899713467, 12.079999999999984, 'gini = 0.5\\nsamples = 2\\nvalue = [0, 0, 1, 1]'),\n",
              " Text(212.48767908309455, 84.56, 'X[16] <= 0.5\\ngini = 0.431\\nsamples = 3873\\nvalue = [0, 2771, 901, 201]'),\n",
              " Text(210.0893982808023, 60.400000000000006, 'X[14] <= 0.5\\ngini = 0.429\\nsamples = 404\\nvalue = [0, 295, 66, 43]'),\n",
              " Text(209.13008595988538, 36.24000000000001, 'X[21] <= 0.5\\ngini = 0.426\\nsamples = 403\\nvalue = [0, 295, 66, 42]'),\n",
              " Text(208.17077363896848, 12.079999999999984, 'gini = 0.266\\nsamples = 19\\nvalue = [0, 16, 3, 0]'),\n",
              " Text(210.0893982808023, 12.079999999999984, 'gini = 0.433\\nsamples = 384\\nvalue = [0, 279, 63, 42]'),\n",
              " Text(211.0487106017192, 36.24000000000001, 'gini = 0.0\\nsamples = 1\\nvalue = [0, 0, 0, 1]'),\n",
              " Text(214.88595988538682, 60.400000000000006, 'X[13] <= 0.5\\ngini = 0.431\\nsamples = 3469\\nvalue = [0, 2476, 835, 158]'),\n",
              " Text(212.967335243553, 36.24000000000001, 'X[0] <= 0.5\\ngini = 0.439\\nsamples = 1727\\nvalue = [0, 1214, 440, 73]'),\n",
              " Text(212.00802292263612, 12.079999999999984, 'gini = 0.0\\nsamples = 1\\nvalue = [0, 0, 1, 0]'),\n",
              " Text(213.9266475644699, 12.079999999999984, 'gini = 0.439\\nsamples = 1726\\nvalue = [0, 1214, 439, 73]'),\n",
              " Text(216.80458452722064, 36.24000000000001, 'X[134] <= 0.5\\ngini = 0.421\\nsamples = 1742\\nvalue = [0, 1262, 395, 85]'),\n",
              " Text(215.84527220630372, 12.079999999999984, 'gini = 0.5\\nsamples = 2\\nvalue = [0, 1, 1, 0]'),\n",
              " Text(217.76389684813753, 12.079999999999984, 'gini = 0.421\\nsamples = 1740\\nvalue = [0, 1261, 394, 85]'),\n",
              " Text(240.9073065902579, 132.88, 'X[137] <= 0.5\\ngini = 0.373\\nsamples = 98828\\nvalue = [24, 75540, 20275, 2989]'),\n",
              " Text(228.55616045845272, 108.72, 'X[13] <= 0.5\\ngini = 0.427\\nsamples = 19514\\nvalue = [5, 14104, 4202, 1203]'),\n",
              " Text(223.04011461318052, 84.56, 'X[136] <= 0.5\\ngini = 0.382\\nsamples = 6105\\nvalue = [3, 4639, 1197, 266]'),\n",
              " Text(219.68252148997135, 60.400000000000006, 'X[9] <= 0.5\\ngini = 0.434\\nsamples = 22\\nvalue = [0, 7, 15, 0]'),\n",
              " Text(218.72320916905443, 36.24000000000001, 'gini = 0.0\\nsamples = 1\\nvalue = [0, 1, 0, 0]'),\n",
              " Text(220.64183381088824, 36.24000000000001, 'X[131] <= 0.5\\ngini = 0.408\\nsamples = 21\\nvalue = [0, 6, 15, 0]'),\n",
              " Text(219.68252148997135, 12.079999999999984, 'gini = 0.0\\nsamples = 5\\nvalue = [0, 0, 5, 0]'),\n",
              " Text(221.60114613180517, 12.079999999999984, 'gini = 0.469\\nsamples = 16\\nvalue = [0, 6, 10, 0]'),\n",
              " Text(226.3977077363897, 60.400000000000006, 'X[16] <= 0.5\\ngini = 0.38\\nsamples = 6083\\nvalue = [3, 4632, 1182, 266]'),\n",
              " Text(224.47908309455588, 36.24000000000001, 'X[0] <= 0.5\\ngini = 0.394\\nsamples = 378\\nvalue = [0, 287, 51, 40]'),\n",
              " Text(223.51977077363895, 12.079999999999984, 'gini = 0.0\\nsamples = 1\\nvalue = [0, 0, 0, 1]'),\n",
              " Text(225.43839541547277, 12.079999999999984, 'gini = 0.391\\nsamples = 377\\nvalue = [0, 287, 51, 39]'),\n",
              " Text(228.3163323782235, 36.24000000000001, 'X[3] <= 0.5\\ngini = 0.379\\nsamples = 5705\\nvalue = [3, 4345, 1131, 226]'),\n",
              " Text(227.35702005730658, 12.079999999999984, 'gini = 0.377\\nsamples = 5634\\nvalue = [3, 4302, 1111, 218]'),\n",
              " Text(229.2756446991404, 12.079999999999984, 'gini = 0.541\\nsamples = 71\\nvalue = [0, 43, 20, 8]'),\n",
              " Text(234.07220630372493, 84.56, 'X[9] <= 0.5\\ngini = 0.447\\nsamples = 13409\\nvalue = [2, 9465, 3005, 937]'),\n",
              " Text(231.19426934097422, 60.400000000000006, 'X[0] <= 0.5\\ngini = 0.409\\nsamples = 7444\\nvalue = [1, 5495, 1558, 390]'),\n",
              " Text(230.2349570200573, 36.24000000000001, 'gini = 0.5\\nsamples = 4\\nvalue = [0, 0, 2, 2]'),\n",
              " Text(232.1535816618911, 36.24000000000001, 'X[14] <= 0.5\\ngini = 0.408\\nsamples = 7440\\nvalue = [1, 5495, 1556, 388]'),\n",
              " Text(231.19426934097422, 12.079999999999984, 'gini = 0.408\\nsamples = 7434\\nvalue = [1, 5492, 1556, 385]'),\n",
              " Text(233.11289398280803, 12.079999999999984, 'gini = 0.5\\nsamples = 6\\nvalue = [0, 3, 0, 3]'),\n",
              " Text(236.95014326647564, 60.400000000000006, 'X[1] <= 0.5\\ngini = 0.49\\nsamples = 5965\\nvalue = [1, 3970, 1447, 547]'),\n",
              " Text(235.99083094555874, 36.24000000000001, 'X[136] <= 0.5\\ngini = 0.49\\nsamples = 5962\\nvalue = [1, 3970, 1444, 547]'),\n",
              " Text(235.03151862464182, 12.079999999999984, 'gini = 0.64\\nsamples = 5\\nvalue = [0, 2, 2, 1]'),\n",
              " Text(236.95014326647564, 12.079999999999984, 'gini = 0.489\\nsamples = 5957\\nvalue = [1, 3968, 1442, 546]'),\n",
              " Text(237.90945558739256, 36.24000000000001, 'gini = 0.0\\nsamples = 3\\nvalue = [0, 0, 3, 0]'),\n",
              " Text(253.25845272206303, 108.72, 'X[9] <= 0.5\\ngini = 0.358\\nsamples = 79314\\nvalue = [19, 61436, 16073, 1786]'),\n",
              " Text(245.5839541547278, 84.56, 'X[12] <= 0.5\\ngini = 0.334\\nsamples = 28800\\nvalue = [9, 22880, 5356, 555]'),\n",
              " Text(241.74670487106016, 60.400000000000006, 'X[132] <= 0.5\\ngini = 0.318\\nsamples = 18961\\nvalue = [4, 15298, 3328, 331]'),\n",
              " Text(239.82808022922637, 36.24000000000001, 'X[0] <= 0.5\\ngini = 0.3\\nsamples = 11951\\nvalue = [0, 9805, 1962, 184]'),\n",
              " Text(238.86876790830945, 12.079999999999984, 'gini = 0.444\\nsamples = 6\\nvalue = [0, 2, 0, 4]'),\n",
              " Text(240.78739255014327, 12.079999999999984, 'gini = 0.299\\nsamples = 11945\\nvalue = [0, 9803, 1962, 180]'),\n",
              " Text(243.66532951289398, 36.24000000000001, 'X[4] <= 0.5\\ngini = 0.348\\nsamples = 7010\\nvalue = [4, 5493, 1366, 147]'),\n",
              " Text(242.70601719197708, 12.079999999999984, 'gini = 0.294\\nsamples = 487\\nvalue = [0, 402, 76, 9]'),\n",
              " Text(244.6246418338109, 12.079999999999984, 'gini = 0.351\\nsamples = 6523\\nvalue = [4, 5091, 1290, 138]'),\n",
              " Text(249.42120343839542, 60.400000000000006, 'X[132] <= 0.5\\ngini = 0.363\\nsamples = 9839\\nvalue = [5, 7582, 2028, 224]'),\n",
              " Text(247.5025787965616, 36.24000000000001, 'X[4] <= 0.5\\ngini = 0.354\\nsamples = 6885\\nvalue = [4, 5361, 1353, 167]'),\n",
              " Text(246.54326647564469, 12.079999999999984, 'gini = 0.392\\nsamples = 403\\nvalue = [0, 299, 96, 8]'),\n",
              " Text(248.4618911174785, 12.079999999999984, 'gini = 0.352\\nsamples = 6482\\nvalue = [4, 5062, 1257, 159]'),\n",
              " Text(251.3398280802292, 36.24000000000001, 'X[15] <= 0.5\\ngini = 0.382\\nsamples = 2954\\nvalue = [1, 2221, 675, 57]'),\n",
              " Text(250.38051575931232, 12.079999999999984, 'gini = 0.388\\nsamples = 2693\\nvalue = [1, 2012, 625, 55]'),\n",
              " Text(252.29914040114613, 12.079999999999984, 'gini = 0.322\\nsamples = 261\\nvalue = [0, 209, 50, 2]'),\n",
              " Text(260.93295128939826, 84.56, 'X[132] <= 0.5\\ngini = 0.372\\nsamples = 50514\\nvalue = [10, 38556, 10717, 1231]'),\n",
              " Text(257.09570200573063, 60.400000000000006, 'X[0] <= 0.5\\ngini = 0.367\\nsamples = 41827\\nvalue = [9, 32103, 8763, 952]'),\n",
              " Text(255.17707736389684, 36.24000000000001, 'X[12] <= 0.5\\ngini = 0.278\\nsamples = 6\\nvalue = [0, 0, 5, 1]'),\n",
              " Text(254.21776504297995, 12.079999999999984, 'gini = 0.375\\nsamples = 4\\nvalue = [0, 0, 3, 1]'),\n",
              " Text(256.13638968481376, 12.079999999999984, 'gini = 0.0\\nsamples = 2\\nvalue = [0, 0, 2, 0]'),\n",
              " Text(259.0143266475645, 36.24000000000001, 'X[12] <= 0.5\\ngini = 0.366\\nsamples = 41821\\nvalue = [9, 32103, 8758, 951]'),\n",
              " Text(258.05501432664755, 12.079999999999984, 'gini = 0.357\\nsamples = 17960\\nvalue = [6, 13932, 3645, 377]'),\n",
              " Text(259.9736389684814, 12.079999999999984, 'gini = 0.374\\nsamples = 23861\\nvalue = [3, 18171, 5113, 574]'),\n",
              " Text(264.7702005730659, 60.400000000000006, 'X[13] <= 0.5\\ngini = 0.397\\nsamples = 8687\\nvalue = [1, 6453, 1954, 279]'),\n",
              " Text(262.8515759312321, 36.24000000000001, 'X[135] <= 0.5\\ngini = 0.356\\nsamples = 2690\\nvalue = [1, 2087, 551, 51]'),\n",
              " Text(261.8922636103152, 12.079999999999984, 'gini = 0.373\\nsamples = 845\\nvalue = [1, 642, 187, 15]'),\n",
              " Text(263.81088825214897, 12.079999999999984, 'gini = 0.347\\nsamples = 1845\\nvalue = [0, 1445, 364, 36]'),\n",
              " Text(266.68882521489974, 36.24000000000001, 'X[136] <= 0.5\\ngini = 0.414\\nsamples = 5997\\nvalue = [0, 4366, 1403, 228]'),\n",
              " Text(265.7295128939828, 12.079999999999984, 'gini = 0.405\\nsamples = 4258\\nvalue = [0, 3126, 998, 134]'),\n",
              " Text(267.6481375358166, 12.079999999999984, 'gini = 0.434\\nsamples = 1739\\nvalue = [0, 1240, 405, 94]'),\n",
              " Text(303.2026504297994, 157.04, 'X[16] <= 0.5\\ngini = 0.331\\nsamples = 42249\\nvalue = [9, 33684, 7685, 871]'),\n",
              " Text(287.19412607449857, 132.88, 'X[14] <= 0.5\\ngini = 0.392\\nsamples = 6923\\nvalue = [2, 5192, 1441, 288]'),\n",
              " Text(280.3590257879656, 108.72, 'X[18] <= 0.5\\ngini = 0.389\\nsamples = 6859\\nvalue = [2, 5165, 1412, 280]'),\n",
              " Text(275.8022922636103, 84.56, 'X[22] <= 0.5\\ngini = 0.387\\nsamples = 6820\\nvalue = [2, 5147, 1394, 277]'),\n",
              " Text(272.44469914040116, 60.400000000000006, 'X[4] <= 0.5\\ngini = 0.383\\nsamples = 6361\\nvalue = [2, 4824, 1276, 259]'),\n",
              " Text(270.5260744985673, 36.24000000000001, 'X[1] <= 0.5\\ngini = 0.376\\nsamples = 5209\\nvalue = [2, 3985, 1008, 214]'),\n",
              " Text(269.56676217765045, 12.079999999999984, 'gini = 0.375\\nsamples = 5205\\nvalue = [2, 3984, 1005, 214]'),\n",
              " Text(271.48538681948423, 12.079999999999984, 'gini = 0.375\\nsamples = 4\\nvalue = [0, 1, 3, 0]'),\n",
              " Text(274.36332378223494, 36.24000000000001, 'X[133] <= 0.5\\ngini = 0.414\\nsamples = 1152\\nvalue = [0, 839, 268, 45]'),\n",
              " Text(273.4040114613181, 12.079999999999984, 'gini = 0.382\\nsamples = 255\\nvalue = [0, 195, 44, 16]'),\n",
              " Text(275.32263610315186, 12.079999999999984, 'gini = 0.421\\nsamples = 897\\nvalue = [0, 644, 224, 29]'),\n",
              " Text(279.1598853868195, 60.400000000000006, 'X[6] <= 0.5\\ngini = 0.437\\nsamples = 459\\nvalue = [0, 323, 118, 18]'),\n",
              " Text(278.2005730659026, 36.24000000000001, 'X[0] <= 0.5\\ngini = 0.445\\nsamples = 422\\nvalue = [0, 293, 113, 16]'),\n",
              " Text(277.24126074498565, 12.079999999999984, 'gini = 0.667\\nsamples = 3\\nvalue = [0, 1, 1, 1]'),\n",
              " Text(279.1598853868195, 12.079999999999984, 'gini = 0.442\\nsamples = 419\\nvalue = [0, 292, 112, 15]'),\n",
              " Text(280.11919770773636, 36.24000000000001, 'gini = 0.321\\nsamples = 37\\nvalue = [0, 30, 5, 2]'),\n",
              " Text(284.9157593123209, 84.56, 'X[9] <= 0.5\\ngini = 0.568\\nsamples = 39\\nvalue = [0, 18, 18, 3]'),\n",
              " Text(282.9971346704871, 60.400000000000006, 'X[20] <= 0.5\\ngini = 0.375\\nsamples = 4\\nvalue = [0, 3, 1, 0]'),\n",
              " Text(282.0378223495702, 36.24000000000001, 'gini = 0.0\\nsamples = 3\\nvalue = [0, 3, 0, 0]'),\n",
              " Text(283.956446991404, 36.24000000000001, 'gini = 0.0\\nsamples = 1\\nvalue = [0, 0, 1, 0]'),\n",
              " Text(286.8343839541547, 60.400000000000006, 'X[20] <= 0.5\\ngini = 0.573\\nsamples = 35\\nvalue = [0, 15, 17, 3]'),\n",
              " Text(285.87507163323784, 36.24000000000001, 'X[21] <= 0.5\\ngini = 0.554\\nsamples = 19\\nvalue = [0, 6, 11, 2]'),\n",
              " Text(284.9157593123209, 12.079999999999984, 'gini = 0.0\\nsamples = 1\\nvalue = [0, 0, 1, 0]'),\n",
              " Text(286.8343839541547, 12.079999999999984, 'gini = 0.568\\nsamples = 18\\nvalue = [0, 6, 10, 2]'),\n",
              " Text(287.7936962750716, 36.24000000000001, 'gini = 0.539\\nsamples = 16\\nvalue = [0, 9, 6, 1]'),\n",
              " Text(294.02922636103153, 108.72, 'X[4] <= 0.5\\ngini = 0.601\\nsamples = 64\\nvalue = [0, 27, 29, 8]'),\n",
              " Text(291.63094555873926, 84.56, 'X[22] <= 0.5\\ngini = 0.461\\nsamples = 23\\nvalue = [0, 16, 5, 2]'),\n",
              " Text(290.67163323782233, 60.400000000000006, 'X[21] <= 0.5\\ngini = 0.554\\nsamples = 17\\nvalue = [0, 10, 5, 2]'),\n",
              " Text(289.71232091690547, 36.24000000000001, 'gini = 0.444\\nsamples = 3\\nvalue = [0, 2, 1, 0]'),\n",
              " Text(291.63094555873926, 36.24000000000001, 'gini = 0.571\\nsamples = 14\\nvalue = [0, 8, 4, 2]'),\n",
              " Text(292.5902578796562, 60.400000000000006, 'gini = 0.0\\nsamples = 6\\nvalue = [0, 6, 0, 0]'),\n",
              " Text(296.42750716332375, 84.56, 'X[132] <= 0.5\\ngini = 0.564\\nsamples = 41\\nvalue = [0, 11, 24, 6]'),\n",
              " Text(295.4681948424069, 60.400000000000006, 'X[20] <= 0.5\\ngini = 0.607\\nsamples = 35\\nvalue = [0, 11, 18, 6]'),\n",
              " Text(293.54957020057304, 36.24000000000001, 'X[8] <= 0.5\\ngini = 0.559\\nsamples = 28\\nvalue = [0, 9, 16, 3]'),\n",
              " Text(292.5902578796562, 12.079999999999984, 'gini = 0.444\\nsamples = 3\\nvalue = [0, 2, 1, 0]'),\n",
              " Text(294.50888252148997, 12.079999999999984, 'gini = 0.547\\nsamples = 25\\nvalue = [0, 7, 15, 3]'),\n",
              " Text(297.3868194842407, 36.24000000000001, 'X[8] <= 0.5\\ngini = 0.653\\nsamples = 7\\nvalue = [0, 2, 2, 3]'),\n",
              " Text(296.42750716332375, 12.079999999999984, 'gini = 0.0\\nsamples = 1\\nvalue = [0, 0, 1, 0]'),\n",
              " Text(298.3461318051576, 12.079999999999984, 'gini = 0.611\\nsamples = 6\\nvalue = [0, 2, 1, 3]'),\n",
              " Text(297.3868194842407, 60.400000000000006, 'gini = 0.0\\nsamples = 6\\nvalue = [0, 0, 6, 0]'),\n",
              " Text(319.2111747851003, 132.88, 'X[20] <= 0.5\\ngini = 0.318\\nsamples = 35326\\nvalue = [7, 28492, 6244, 583]'),\n",
              " Text(309.378223495702, 108.72, 'X[4] <= 0.5\\ngini = 0.334\\nsamples = 23630\\nvalue = [5, 18759, 4447, 419]'),\n",
              " Text(304.102005730659, 84.56, 'X[3] <= 0.5\\ngini = 0.327\\nsamples = 21295\\nvalue = [5, 17031, 3900, 359]'),\n",
              " Text(303.1426934097421, 60.400000000000006, 'X[22] <= 0.5\\ngini = 0.326\\nsamples = 21290\\nvalue = [5, 17031, 3895, 359]'),\n",
              " Text(301.2240687679083, 36.24000000000001, 'X[1] <= 0.5\\ngini = 0.323\\nsamples = 19700\\nvalue = [4, 15814, 3551, 331]'),\n",
              " Text(300.2647564469914, 12.079999999999984, 'gini = 0.323\\nsamples = 19697\\nvalue = [4, 15814, 3548, 331]'),\n",
              " Text(302.18338108882523, 12.079999999999984, 'gini = 0.0\\nsamples = 3\\nvalue = [0, 0, 3, 0]'),\n",
              " Text(305.06131805157594, 36.24000000000001, 'X[132] <= 0.5\\ngini = 0.367\\nsamples = 1590\\nvalue = [1, 1217, 344, 28]'),\n",
              " Text(304.102005730659, 12.079999999999984, 'gini = 0.373\\nsamples = 1493\\nvalue = [1, 1134, 332, 26]'),\n",
              " Text(306.02063037249286, 12.079999999999984, 'gini = 0.252\\nsamples = 97\\nvalue = [0, 83, 12, 2]'),\n",
              " Text(305.06131805157594, 60.400000000000006, 'gini = 0.0\\nsamples = 5\\nvalue = [0, 0, 5, 0]'),\n",
              " Text(314.654441260745, 84.56, 'X[131] <= 0.5\\ngini = 0.397\\nsamples = 2335\\nvalue = [0, 1728, 547, 60]'),\n",
              " Text(310.81719197707736, 60.400000000000006, 'X[22] <= 0.5\\ngini = 0.348\\nsamples = 533\\nvalue = [0, 416, 110, 7]'),\n",
              " Text(308.89856733524357, 36.24000000000001, 'X[8] <= 0.5\\ngini = 0.368\\nsamples = 469\\nvalue = [0, 358, 104, 7]'),\n",
              " Text(307.93925501432665, 12.079999999999984, 'gini = 0.49\\nsamples = 7\\nvalue = [0, 4, 3, 0]'),\n",
              " Text(309.85787965616043, 12.079999999999984, 'gini = 0.365\\nsamples = 462\\nvalue = [0, 354, 101, 7]'),\n",
              " Text(312.73581661891114, 36.24000000000001, 'X[135] <= 0.5\\ngini = 0.17\\nsamples = 64\\nvalue = [0, 58, 6, 0]'),\n",
              " Text(311.7765042979943, 12.079999999999984, 'gini = 0.214\\nsamples = 41\\nvalue = [0, 36, 5, 0]'),\n",
              " Text(313.69512893982807, 12.079999999999984, 'gini = 0.083\\nsamples = 23\\nvalue = [0, 22, 1, 0]'),\n",
              " Text(318.4916905444126, 60.400000000000006, 'X[21] <= 0.5\\ngini = 0.41\\nsamples = 1802\\nvalue = [0, 1312, 437, 53]'),\n",
              " Text(316.5730659025788, 36.24000000000001, 'X[7] <= 0.5\\ngini = 0.393\\nsamples = 263\\nvalue = [0, 194, 66, 3]'),\n",
              " Text(315.6137535816619, 12.079999999999984, 'gini = 0.388\\nsamples = 253\\nvalue = [0, 188, 62, 3]'),\n",
              " Text(317.5323782234957, 12.079999999999984, 'gini = 0.48\\nsamples = 10\\nvalue = [0, 6, 4, 0]'),\n",
              " Text(320.4103151862464, 36.24000000000001, 'X[7] <= 0.5\\ngini = 0.413\\nsamples = 1539\\nvalue = [0, 1118, 371, 50]'),\n",
              " Text(319.4510028653295, 12.079999999999984, 'gini = 0.413\\nsamples = 1514\\nvalue = [0, 1100, 365, 49]'),\n",
              " Text(321.36962750716333, 12.079999999999984, 'gini = 0.422\\nsamples = 25\\nvalue = [0, 18, 6, 1]'),\n",
              " Text(329.0441260744986, 108.72, 'X[4] <= 0.5\\ngini = 0.284\\nsamples = 11696\\nvalue = [2, 9733, 1797, 164]'),\n",
              " Text(327.12550143266475, 84.56, 'X[1] <= 0.5\\ngini = 0.276\\nsamples = 10251\\nvalue = [1, 8585, 1535, 130]'),\n",
              " Text(326.1661891117478, 60.400000000000006, 'X[10] <= 0.5\\ngini = 0.276\\nsamples = 10250\\nvalue = [1, 8585, 1534, 130]'),\n",
              " Text(324.24756446991404, 36.24000000000001, 'X[131] <= 0.5\\ngini = 0.278\\nsamples = 9286\\nvalue = [1, 7762, 1415, 108]'),\n",
              " Text(323.2882521489971, 12.079999999999984, 'gini = 0.26\\nsamples = 1366\\nvalue = [0, 1161, 182, 23]'),\n",
              " Text(325.20687679083096, 12.079999999999984, 'gini = 0.281\\nsamples = 7920\\nvalue = [1, 6601, 1233, 85]'),\n",
              " Text(328.08481375358167, 36.24000000000001, 'X[138] <= 0.5\\ngini = 0.255\\nsamples = 964\\nvalue = [0, 823, 119, 22]'),\n",
              " Text(327.12550143266475, 12.079999999999984, 'gini = 0.253\\nsamples = 955\\nvalue = [0, 817, 117, 21]'),\n",
              " Text(329.0441260744986, 12.079999999999984, 'gini = 0.494\\nsamples = 9\\nvalue = [0, 6, 2, 1]'),\n",
              " Text(328.08481375358167, 60.400000000000006, 'gini = 0.0\\nsamples = 1\\nvalue = [0, 0, 1, 0]'),\n",
              " Text(330.9627507163324, 84.56, 'X[137] <= 0.5\\ngini = 0.335\\nsamples = 1445\\nvalue = [1, 1148, 262, 34]'),\n",
              " Text(330.00343839541546, 60.400000000000006, 'gini = 0.285\\nsamples = 342\\nvalue = [0, 286, 39, 17]'),\n",
              " Text(331.9220630372493, 60.400000000000006, 'X[135] <= 0.5\\ngini = 0.348\\nsamples = 1103\\nvalue = [1, 862, 223, 17]'),\n",
              " Text(330.9627507163324, 36.24000000000001, 'gini = 0.438\\nsamples = 74\\nvalue = [0, 50, 24, 0]'),\n",
              " Text(332.88137535816617, 36.24000000000001, 'X[132] <= 0.5\\ngini = 0.34\\nsamples = 1029\\nvalue = [1, 812, 199, 17]'),\n",
              " Text(331.9220630372493, 12.079999999999984, 'gini = 0.334\\nsamples = 877\\nvalue = [1, 696, 165, 15]'),\n",
              " Text(333.8406876790831, 12.079999999999984, 'gini = 0.367\\nsamples = 152\\nvalue = [0, 116, 34, 2]')]"
            ]
          },
          "metadata": {
            "tags": []
          },
          "execution_count": 61
        },
        {
          "output_type": "display_data",
          "data": {
            "image/png": "[encoded data removed]",
            "text/plain": [
              "<Figure size 432x288 with 1 Axes>"
            ]
          },
          "metadata": {
            "tags": [],
            "needs_background": "light"
          }
        }
      ]
    },
    {
      "cell_type": "markdown",
      "metadata": {
        "id": "U3S8Jy5mXmgW",
        "colab_type": "text"
      },
      "source": [
        "## Testing accuract for each level of depth"
      ]
    },
    {
      "cell_type": "code",
      "metadata": {
        "id": "rJSXTTKgA_0t",
        "colab_type": "code",
        "outputId": "1bf1ca48-8a74-4daf-e44f-d627f6b16370",
        "colab": {
          "base_uri": "https://localhost:8080/",
          "height": 35
        }
      },
      "source": [
        "a2 = accuracy_score(Y_TEST, clf2.predict(X_TEST))\n",
        "a2"
      ],
      "execution_count": 62,
      "outputs": [
        {
          "output_type": "execute_result",
          "data": {
            "text/plain": [
              "0.7170925646862676"
            ]
          },
          "metadata": {
            "tags": []
          },
          "execution_count": 62
        }
      ]
    },
    {
      "cell_type": "code",
      "metadata": {
        "id": "8zpsYIfKPtch",
        "colab_type": "code",
        "outputId": "3cfcb113-e208-4ee0-bb25-514cd6237e02",
        "colab": {
          "base_uri": "https://localhost:8080/",
          "height": 35
        }
      },
      "source": [
        "a4 = accuracy_score(Y_TEST, clf4.predict(X_TEST))\n",
        "a4"
      ],
      "execution_count": 63,
      "outputs": [
        {
          "output_type": "execute_result",
          "data": {
            "text/plain": [
              "0.7171310397896694"
            ]
          },
          "metadata": {
            "tags": []
          },
          "execution_count": 63
        }
      ]
    },
    {
      "cell_type": "code",
      "metadata": {
        "id": "5cRaMT-kPLXG",
        "colab_type": "code",
        "outputId": "f4571754-b549-4b02-e694-3eab38888803",
        "colab": {
          "base_uri": "https://localhost:8080/",
          "height": 35
        }
      },
      "source": [
        "a6 = accuracy_score(Y_TEST, clf6.predict(X_TEST))\n",
        "a6"
      ],
      "execution_count": 64,
      "outputs": [
        {
          "output_type": "execute_result",
          "data": {
            "text/plain": [
              "0.7171310397896694"
            ]
          },
          "metadata": {
            "tags": []
          },
          "execution_count": 64
        }
      ]
    },
    {
      "cell_type": "code",
      "metadata": {
        "id": "4mT_Ch1pWE04",
        "colab_type": "code",
        "outputId": "9c3b64be-6b5d-4417-cf92-0db34333ebbd",
        "colab": {
          "base_uri": "https://localhost:8080/",
          "height": 35
        }
      },
      "source": [
        "a8 = accuracy_score(Y_TEST, clf8.predict(X_TEST))\n",
        "a8"
      ],
      "execution_count": 65,
      "outputs": [
        {
          "output_type": "execute_result",
          "data": {
            "text/plain": [
              "0.7171887524447722"
            ]
          },
          "metadata": {
            "tags": []
          },
          "execution_count": 65
        }
      ]
    },
    {
      "cell_type": "code",
      "metadata": {
        "id": "2opFSZBrB9iY",
        "colab_type": "code",
        "outputId": "0fbc6d84-d371-442b-9266-f1144e81c0fd",
        "colab": {
          "base_uri": "https://localhost:8080/",
          "height": 294
        }
      },
      "source": [
        "plt.plot([2,4, 6, 8], [a2, a4, a6, a8])"
      ],
      "execution_count": 66,
      "outputs": [
        {
          "output_type": "execute_result",
          "data": {
            "text/plain": [
              "[<matplotlib.lines.Line2D at 0x7f01da71a780>]"
            ]
          },
          "metadata": {
            "tags": []
          },
          "execution_count": 66
        },
        {
          "output_type": "display_data",
          "data": {
            "image/png": "[encoded data removed]",
            "text/plain": [
              "<Figure size 432x288 with 1 Axes>"
            ]
          },
          "metadata": {
            "tags": [],
            "needs_background": "light"
          }
        }
      ]
    },
    {
      "cell_type": "markdown",
      "metadata": {
        "id": "n2VqFG9ZWFYu",
        "colab_type": "text"
      },
      "source": [
        "# Apriori Algorithm"
      ]
    },
    {
      "cell_type": "code",
      "metadata": {
        "id": "N4xGSIvTWIy5",
        "colab_type": "code",
        "colab": {
          "base_uri": "https://localhost:8080/",
          "height": 171
        },
        "outputId": "121c2fe1-2e5e-4b3c-bdcc-bd8a1217d9a9"
      },
      "source": [
        "frq_items = apriori(obstacle_df, min_support=0.025, use_colnames=True, max_len=None)\n",
        "display(frq_items)"
      ],
      "execution_count": 67,
      "outputs": [
        {
          "output_type": "display_data",
          "data": {
            "text/html": [
              "<div>\n",
              "<style scoped>\n",
              "    .dataframe tbody tr th:only-of-type {\n",
              "        vertical-align: middle;\n",
              "    }\n",
              "\n",
              "    .dataframe tbody tr th {\n",
              "        vertical-align: top;\n",
              "    }\n",
              "\n",
              "    .dataframe thead th {\n",
              "        text-align: right;\n",
              "    }\n",
              "</style>\n",
              "<table border=\"1\" class=\"dataframe\">\n",
              "  <thead>\n",
              "    <tr style=\"text-align: right;\">\n",
              "      <th></th>\n",
              "      <th>support</th>\n",
              "      <th>itemsets</th>\n",
              "    </tr>\n",
              "  </thead>\n",
              "  <tbody>\n",
              "    <tr>\n",
              "      <th>0</th>\n",
              "      <td>0.069794</td>\n",
              "      <td>(Crossing)</td>\n",
              "    </tr>\n",
              "    <tr>\n",
              "      <th>1</th>\n",
              "      <td>0.080168</td>\n",
              "      <td>(Junction)</td>\n",
              "    </tr>\n",
              "    <tr>\n",
              "      <th>2</th>\n",
              "      <td>0.169242</td>\n",
              "      <td>(Traffic_Signal)</td>\n",
              "    </tr>\n",
              "    <tr>\n",
              "      <th>3</th>\n",
              "      <td>0.053246</td>\n",
              "      <td>(Crossing, Traffic_Signal)</td>\n",
              "    </tr>\n",
              "  </tbody>\n",
              "</table>\n",
              "</div>"
            ],
            "text/plain": [
              "    support                    itemsets\n",
              "0  0.069794                  (Crossing)\n",
              "1  0.080168                  (Junction)\n",
              "2  0.169242            (Traffic_Signal)\n",
              "3  0.053246  (Crossing, Traffic_Signal)"
            ]
          },
          "metadata": {
            "tags": []
          }
        }
      ]
    },
    {
      "cell_type": "code",
      "metadata": {
        "id": "xUUAaH0UXBP6",
        "colab_type": "code",
        "colab": {}
      },
      "source": [
        "rules = association_rules(frq_items, metric='lift', min_threshold=1, support_only=False)"
      ],
      "execution_count": 0,
      "outputs": []
    },
    {
      "cell_type": "code",
      "metadata": {
        "id": "0RdQ27H4XDOQ",
        "colab_type": "code",
        "colab": {
          "base_uri": "https://localhost:8080/",
          "height": 110
        },
        "outputId": "a8c8084d-aafa-4bb5-e9e0-84baa79dfbb9"
      },
      "source": [
        "rules"
      ],
      "execution_count": 69,
      "outputs": [
        {
          "output_type": "execute_result",
          "data": {
            "text/html": [
              "<div>\n",
              "<style scoped>\n",
              "    .dataframe tbody tr th:only-of-type {\n",
              "        vertical-align: middle;\n",
              "    }\n",
              "\n",
              "    .dataframe tbody tr th {\n",
              "        vertical-align: top;\n",
              "    }\n",
              "\n",
              "    .dataframe thead th {\n",
              "        text-align: right;\n",
              "    }\n",
              "</style>\n",
              "<table border=\"1\" class=\"dataframe\">\n",
              "  <thead>\n",
              "    <tr style=\"text-align: right;\">\n",
              "      <th></th>\n",
              "      <th>antecedents</th>\n",
              "      <th>consequents</th>\n",
              "      <th>antecedent support</th>\n",
              "      <th>consequent support</th>\n",
              "      <th>support</th>\n",
              "      <th>confidence</th>\n",
              "      <th>lift</th>\n",
              "      <th>leverage</th>\n",
              "      <th>conviction</th>\n",
              "    </tr>\n",
              "  </thead>\n",
              "  <tbody>\n",
              "    <tr>\n",
              "      <th>0</th>\n",
              "      <td>(Crossing)</td>\n",
              "      <td>(Traffic_Signal)</td>\n",
              "      <td>0.069794</td>\n",
              "      <td>0.169242</td>\n",
              "      <td>0.053246</td>\n",
              "      <td>0.762898</td>\n",
              "      <td>4.507729</td>\n",
              "      <td>0.041433</td>\n",
              "      <td>3.503800</td>\n",
              "    </tr>\n",
              "    <tr>\n",
              "      <th>1</th>\n",
              "      <td>(Traffic_Signal)</td>\n",
              "      <td>(Crossing)</td>\n",
              "      <td>0.169242</td>\n",
              "      <td>0.069794</td>\n",
              "      <td>0.053246</td>\n",
              "      <td>0.314611</td>\n",
              "      <td>4.507729</td>\n",
              "      <td>0.041433</td>\n",
              "      <td>1.357195</td>\n",
              "    </tr>\n",
              "  </tbody>\n",
              "</table>\n",
              "</div>"
            ],
            "text/plain": [
              "        antecedents       consequents  ...  leverage  conviction\n",
              "0        (Crossing)  (Traffic_Signal)  ...  0.041433    3.503800\n",
              "1  (Traffic_Signal)        (Crossing)  ...  0.041433    1.357195\n",
              "\n",
              "[2 rows x 9 columns]"
            ]
          },
          "metadata": {
            "tags": []
          },
          "execution_count": 69
        }
      ]
    }
  ]
}